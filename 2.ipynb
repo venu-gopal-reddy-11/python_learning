{
 "cells": [
  {
   "cell_type": "code",
   "execution_count": 1,
   "metadata": {},
   "outputs": [],
   "source": [
    "# Functions, Modules, and Packages\n",
    "# File Handling\n",
    "# Exception Handling"
   ]
  },
  {
   "cell_type": "code",
   "execution_count": null,
   "metadata": {},
   "outputs": [],
   "source": []
  },
  {
   "cell_type": "markdown",
   "metadata": {},
   "source": [
    "## Functions"
   ]
  },
  {
   "cell_type": "code",
   "execution_count": 2,
   "metadata": {},
   "outputs": [
    {
     "data": {
      "text/plain": [
       "5"
      ]
     },
     "execution_count": 2,
     "metadata": {},
     "output_type": "execute_result"
    }
   ],
   "source": [
    "# example function to add the two numbers \n",
    "\n",
    "def adding_numbers(a,b):\n",
    "    c = a+b\n",
    "    return c \n",
    "adding_numbers(2,3)"
   ]
  },
  {
   "cell_type": "code",
   "execution_count": 7,
   "metadata": {},
   "outputs": [
    {
     "name": "stdout",
     "output_type": "stream",
     "text": [
      "0\n",
      "2\n"
     ]
    }
   ],
   "source": [
    "# function to give numbers from 1 to n \n",
    "\n",
    "def numbers(num1):\n",
    "    for i in range(0,num1):\n",
    "        if i==1:\n",
    "            pass\n",
    "        else:\n",
    "            print(i)\n",
    "numbers(3)"
   ]
  },
  {
   "cell_type": "code",
   "execution_count": 11,
   "metadata": {},
   "outputs": [
    {
     "data": {
      "text/plain": [
       "1"
      ]
     },
     "execution_count": 11,
     "metadata": {},
     "output_type": "execute_result"
    }
   ],
   "source": []
  },
  {
   "cell_type": "code",
   "execution_count": 67,
   "metadata": {},
   "outputs": [],
   "source": [
    "### primte numbers \n",
    "\n",
    "import logging\n",
    "logging.basicConfig(level=logging.INFO)\n",
    "\n",
    "def is_prime(n):\n",
    "    logging.info(\"Starting to logging the functions:\")\n",
    "    if n <= 1:\n",
    "        return False\n",
    "    if n == 2 or n == 3:\n",
    "        return True\n",
    "    if n % 2 == 0 or n % 3 == 0:\n",
    "        return False\n",
    "    logging.info(\"half part is completed \")\n",
    "    i = 5\n",
    "    while i * i <= n:\n",
    "        logging.info(f\"printing the elements {i}\")\n",
    "        if n % i == 0 or n % (i + 2) == 0:\n",
    "            print(\"jk\",i)\n",
    "            return False\n",
    "        i += 6\n",
    "    return True\n",
    "\n",
    "# Test the function\n"
   ]
  },
  {
   "cell_type": "code",
   "execution_count": 68,
   "metadata": {},
   "outputs": [
    {
     "name": "stderr",
     "output_type": "stream",
     "text": [
      "INFO:root:Starting to logging the functions:\n",
      "INFO:root:half part is completed \n",
      "INFO:root:printing the elements 5\n",
      "INFO:root:printing the elements 11\n"
     ]
    },
    {
     "data": {
      "text/plain": [
       "True"
      ]
     },
     "execution_count": 68,
     "metadata": {},
     "output_type": "execute_result"
    }
   ],
   "source": [
    "is_prime(163)"
   ]
  },
  {
   "cell_type": "code",
   "execution_count": 70,
   "metadata": {},
   "outputs": [],
   "source": [
    "#### checking for the negative numbers \n",
    "\n",
    "def find_negatives(start, end):\n",
    "    if start ==end:\n",
    "        if start <0:\n",
    "            return list(start)\n",
    "        else:\n",
    "            return []\n",
    "    output =[]\n",
    "    for i in range(start,end):\n",
    "        if i <0:\n",
    "            output.append(i)\n",
    "    return output"
   ]
  },
  {
   "cell_type": "code",
   "execution_count": 71,
   "metadata": {},
   "outputs": [
    {
     "name": "stdout",
     "output_type": "stream",
     "text": [
      "Emil Refsnes\n"
     ]
    }
   ],
   "source": [
    "# functions with two parameters \n",
    "\n",
    "def my_function(fname, lname):\n",
    "  print(fname + \" \" + lname)\n",
    "\n",
    "my_function(\"Emil\", \"Refsnes\")"
   ]
  },
  {
   "cell_type": "code",
   "execution_count": 72,
   "metadata": {},
   "outputs": [
    {
     "name": "stdout",
     "output_type": "stream",
     "text": [
      "The youngest child is Linus\n"
     ]
    }
   ],
   "source": [
    "# Arbitrary Arguments, *args\n",
    "\n",
    "# If you do not know how many arguments that will be passed into your function, \n",
    "# add a * before the parameter name in the function?\n",
    "\n",
    "def my_function(*kids):\n",
    "  print(\"The youngest child is \" + kids[2])\n",
    "\n",
    "my_function(\"Emil\", \"Tobias\", \"Linus\")\n"
   ]
  },
  {
   "cell_type": "code",
   "execution_count": 73,
   "metadata": {},
   "outputs": [
    {
     "name": "stdout",
     "output_type": "stream",
     "text": [
      "The youngest child is Linus\n"
     ]
    }
   ],
   "source": [
    "# keyworld arugments \n",
    "def my_function(child3, child2, child1):\n",
    "  print(\"The youngest child is \" + child3)\n",
    "\n",
    "my_function(child1 = \"Emil\", child2 = \"Tobias\", child3 = \"Linus\")"
   ]
  },
  {
   "cell_type": "code",
   "execution_count": 75,
   "metadata": {},
   "outputs": [],
   "source": [
    "# Arbitrary Keyword Arguments, **kwargs\n",
    "\n",
    "# If you do not know how many keyword arguments that will be passed into your function, add two asterisk: \n",
    "# ** before the parameter name in the function\n",
    "\n",
    "def my_function(**kid):\n",
    "  print(\"His last name is \" + kid[\"lname\"])\n",
    "\n",
    "my_function(fname = \"Tobias\", lname = \"Refsnes\")"
   ]
  },
  {
   "cell_type": "code",
   "execution_count": 76,
   "metadata": {},
   "outputs": [
    {
     "name": "stdout",
     "output_type": "stream",
     "text": [
      "I am from Sweden\n"
     ]
    }
   ],
   "source": [
    "# default parameters \n",
    "def my_function(country = \"Norway\"):\n",
    "  print(\"I am from \" + country)\n",
    "\n",
    "my_function(\"Sweden\")"
   ]
  },
  {
   "cell_type": "code",
   "execution_count": 77,
   "metadata": {},
   "outputs": [],
   "source": [
    "# pass\n",
    "def myfunction():\n",
    "  pass"
   ]
  },
  {
   "cell_type": "code",
   "execution_count": 79,
   "metadata": {},
   "outputs": [
    {
     "name": "stdout",
     "output_type": "stream",
     "text": [
      "3\n",
      "3\n",
      "26\n"
     ]
    }
   ],
   "source": [
    "## Positional-Only Arguments   -------------------------------- need to check once -----------------------------------------------------\n",
    "def my_function(x, /):\n",
    "  print(x)\n",
    "\n",
    "my_function(3)\n",
    "\n",
    "##Keyword-Only Arguments\n",
    "\n",
    "def my_function(*, x):\n",
    "  print(x)\n",
    "\n",
    "my_function(x = 3)\n",
    "\n",
    "# Combine Positional-Only and Keyword-Only\n",
    "\n",
    "def my_function(a, b, /, *, c, d):\n",
    "  print(a + b + c + d)\n",
    "\n",
    "my_function(5, 6, c = 7, d = 8)"
   ]
  },
  {
   "cell_type": "code",
   "execution_count": 82,
   "metadata": {},
   "outputs": [
    {
     "name": "stdout",
     "output_type": "stream",
     "text": [
      "\n",
      "\n",
      "Recursion Example Results\n",
      "1\n",
      "3\n",
      "6\n",
      "10\n"
     ]
    },
    {
     "data": {
      "text/plain": [
       "10"
      ]
     },
     "execution_count": 82,
     "metadata": {},
     "output_type": "execute_result"
    }
   ],
   "source": [
    "###  recursion\n",
    "#  It means that a function calls itself.\n",
    "\n",
    "def tri_recursion(k):\n",
    "  if(k > 0):\n",
    "    result = k + tri_recursion(k - 1)\n",
    "    print(result)\n",
    "  else:\n",
    "    result = 0\n",
    "  return result\n",
    "\n",
    "print(\"\\n\\nRecursion Example Results\")\n",
    "tri_recursion(4)\n",
    "\n"
   ]
  },
  {
   "cell_type": "code",
   "execution_count": 92,
   "metadata": {},
   "outputs": [
    {
     "name": "stdout",
     "output_type": "stream",
     "text": [
      "60\n",
      "13860\n",
      "231 0\n"
     ]
    },
    {
     "data": {
      "text/plain": [
       "'231 minutes and 0 seconds'"
      ]
     },
     "execution_count": 92,
     "metadata": {},
     "output_type": "execute_result"
    }
   ],
   "source": [
    "## problem statement \n",
    "\n",
    "def total_washing_time(times_per_day, months):\n",
    "    if months==0 and times_per_day==0:\n",
    "        return 0\n",
    "    else:\n",
    "        day = (30 * months)\n",
    "        \n",
    "        print(day)\n",
    "        time = times_per_day*day *21\n",
    "        print(time)\n",
    "        mintes = time//60\n",
    "        sec = time% 60\n",
    "        print(mintes, sec)\n",
    "        \n",
    "    return f\"{mintes} minutes and {sec} seconds\"\n",
    "\n",
    "total_washing_time(11,2)"
   ]
  },
  {
   "cell_type": "code",
   "execution_count": 111,
   "metadata": {},
   "outputs": [
    {
     "name": "stdout",
     "output_type": "stream",
     "text": [
      "3\n"
     ]
    }
   ],
   "source": [
    "# global variable\n",
    "c = 1 \n",
    "\n",
    "def add():\n",
    "\n",
    "    # use of global keyword\n",
    "    global c\n",
    "\n",
    "    # increment c by 2\n",
    "    c = c + 2 \n",
    "\n",
    "    print(c)\n",
    "\n",
    "add()\n",
    "\n",
    "# Output: 3 "
   ]
  },
  {
   "cell_type": "code",
   "execution_count": 112,
   "metadata": {},
   "outputs": [
    {
     "name": "stdout",
     "output_type": "stream",
     "text": [
      "['__annotations__', '__builtins__', '__call__', '__class__', '__closure__', '__code__', '__defaults__', '__delattr__', '__dict__', '__dir__', '__doc__', '__eq__', '__format__', '__ge__', '__get__', '__getattribute__', '__getstate__', '__globals__', '__gt__', '__hash__', '__init__', '__init_subclass__', '__kwdefaults__', '__le__', '__lt__', '__module__', '__name__', '__ne__', '__new__', '__qualname__', '__reduce__', '__reduce_ex__', '__repr__', '__setattr__', '__sizeof__', '__str__', '__subclasshook__']\n"
     ]
    }
   ],
   "source": [
    "### dir to debuge \n",
    "\n",
    "print(dir(add))"
   ]
  },
  {
   "cell_type": "code",
   "execution_count": 113,
   "metadata": {},
   "outputs": [
    {
     "name": "stdout",
     "output_type": "stream",
     "text": [
      "Hello World\n"
     ]
    }
   ],
   "source": [
    "# useful in the .py files to run \n",
    "def main():\n",
    "    print(\"Hello World\")\n",
    "\n",
    "if __name__==\"__main__\":\n",
    "    main()"
   ]
  },
  {
   "cell_type": "code",
   "execution_count": null,
   "metadata": {},
   "outputs": [],
   "source": []
  },
  {
   "cell_type": "code",
   "execution_count": 114,
   "metadata": {},
   "outputs": [
    {
     "name": "stdout",
     "output_type": "stream",
     "text": [
      "c:\\Users\\venu_reddy\\OneDrive - EPAM\\Learning\\python\n"
     ]
    }
   ],
   "source": [
    "### files \n",
    "\n",
    "import os\n",
    "\n",
    "print(os.getcwd())"
   ]
  },
  {
   "cell_type": "code",
   "execution_count": 122,
   "metadata": {},
   "outputs": [
    {
     "name": "stdout",
     "output_type": "stream",
     "text": [
      "c:\\Users\n"
     ]
    }
   ],
   "source": [
    "# now changing the working directory \n",
    "\n",
    "import os\n",
    "# change directory\n",
    "os.chdir(\"c:/Users\")\n",
    "\n",
    "print(os.getcwd())"
   ]
  },
  {
   "cell_type": "code",
   "execution_count": null,
   "metadata": {},
   "outputs": [],
   "source": []
  },
  {
   "cell_type": "code",
   "execution_count": 124,
   "metadata": {},
   "outputs": [],
   "source": [
    "#Exceptions"
   ]
  },
  {
   "cell_type": "code",
   "execution_count": 125,
   "metadata": {},
   "outputs": [],
   "source": [
    "# ### Common Python Exceptions\n",
    "# SyntaxError: Raised when there is a syntax error in the code.\n",
    "# TypeError: Raised when an operation or function is applied to an object of inappropriate type.\n",
    "# IndexError: Raised when a sequence index is out of range.\n",
    "# KeyError: Raised when a dictionary key is not found.\n",
    "# ValueError: Raised when a function receives an argument of the correct type but inappropriate value.\n",
    "# AttributeError: Raised when an attribute reference or assignment fails.\n",
    "# NameError: Raised when a local or global name is not found.\n",
    "# ZeroDivisionError: Raised when division by zero occurs.\n",
    "# FileNotFoundError: Raised when an attempt to open a file that does not exist fails.\n",
    "# ImportError: Raised when an import statement fails to find the module definition or when a from import fails to find a name that is to be imported."
   ]
  },
  {
   "cell_type": "code",
   "execution_count": 126,
   "metadata": {},
   "outputs": [
    {
     "name": "stdout",
     "output_type": "stream",
     "text": [
      "TypeError: can only concatenate str (not \"int\") to str\n",
      "IndexError: list index out of range\n",
      "KeyError: 'c'\n",
      "ValueError: invalid literal for int() with base 10: 'xyz'\n",
      "AttributeError: 'int' object has no attribute 'append'\n",
      "NameError: name 'y' is not defined\n",
      "ZeroDivisionError: division by zero\n",
      "FileNotFoundError: [Errno 2] No such file or directory: 'non_existent_file.txt'\n",
      "ImportError: No module named 'non_existent_module'\n"
     ]
    }
   ],
   "source": [
    "def exception_examples():\n",
    "    try:\n",
    "        # SyntaxError example (Uncomment to see the error)\n",
    "        # eval('x === y')\n",
    "\n",
    "        # TypeError example\n",
    "        result = '2' + 2  # Trying to add a string and an integer\n",
    "    except TypeError as e:\n",
    "        print(f\"TypeError: {e}\")\n",
    "    \n",
    "    try:\n",
    "        # IndexError example\n",
    "        lst = [1, 2, 3]\n",
    "        print(lst[5])  # Accessing out-of-range index\n",
    "    except IndexError as e:\n",
    "        print(f\"IndexError: {e}\")\n",
    "    \n",
    "    try:\n",
    "        # KeyError example\n",
    "        d = {'a': 1, 'b': 2}\n",
    "        print(d['c'])  # Accessing a non-existent key\n",
    "    except KeyError as e:\n",
    "        print(f\"KeyError: {e}\")\n",
    "    \n",
    "    try:\n",
    "        # ValueError example\n",
    "        num = int(\"xyz\")  # Converting an invalid string to an integer\n",
    "    except ValueError as e:\n",
    "        print(f\"ValueError: {e}\")\n",
    "    \n",
    "    try:\n",
    "        # AttributeError example\n",
    "        x = 10\n",
    "        x.append(6)  # Trying to use a method not applicable to the object\n",
    "    except AttributeError as e:\n",
    "        print(f\"AttributeError: {e}\")\n",
    "    \n",
    "    try:\n",
    "        # NameError example\n",
    "        print(y)  # Accessing a variable that is not defined\n",
    "    except NameError as e:\n",
    "        print(f\"NameError: {e}\")\n",
    "    \n",
    "    try:\n",
    "        # ZeroDivisionError example\n",
    "        result = 10 / 0  # Division by zero\n",
    "    except ZeroDivisionError as e:\n",
    "        print(f\"ZeroDivisionError: {e}\")\n",
    "    \n",
    "    try:\n",
    "        # FileNotFoundError example\n",
    "        with open('non_existent_file.txt', 'r') as f:\n",
    "            content = f.read()\n",
    "    except FileNotFoundError as e:\n",
    "        print(f\"FileNotFoundError: {e}\")\n",
    "    \n",
    "    try:\n",
    "        # ImportError example\n",
    "        import non_existent_module  # Importing a non-existent module\n",
    "    except ImportError as e:\n",
    "        print(f\"ImportError: {e}\")\n",
    "\n",
    "# Call the function to see the exceptions in action\n",
    "exception_examples()\n"
   ]
  },
  {
   "cell_type": "code",
   "execution_count": null,
   "metadata": {},
   "outputs": [],
   "source": []
  },
  {
   "cell_type": "code",
   "execution_count": null,
   "metadata": {},
   "outputs": [],
   "source": []
  },
  {
   "cell_type": "code",
   "execution_count": null,
   "metadata": {},
   "outputs": [],
   "source": []
  },
  {
   "cell_type": "code",
   "execution_count": 97,
   "metadata": {},
   "outputs": [
    {
     "name": "stdout",
     "output_type": "stream",
     "text": [
      "24\n"
     ]
    }
   ],
   "source": [
    "# lambda function\n",
    "def myfunc(n):\n",
    "  return lambda a : a * n\n",
    "\n",
    "mydoubler = myfunc(2)\n",
    "\n",
    "print(mydoubler(12))"
   ]
  },
  {
   "cell_type": "code",
   "execution_count": null,
   "metadata": {},
   "outputs": [],
   "source": []
  },
  {
   "cell_type": "code",
   "execution_count": 100,
   "metadata": {},
   "outputs": [],
   "source": [
    "# array \n",
    "\n",
    "\n",
    "# Arrays are more specialized for storing homogeneous data (items of the same type) and \n",
    "# are more memory-efficient and faster for numerical operations. \n",
    "# They require importing the array module or using libraries like NumPy for advanced numerical computations.\n",
    "from array import array\n",
    "my_array = array('i', [1, 2, 3, 4])\n",
    "my_array.append(5)  # You can only add integers"
   ]
  },
  {
   "cell_type": "code",
   "execution_count": 103,
   "metadata": {},
   "outputs": [
    {
     "name": "stdout",
     "output_type": "stream",
     "text": [
      "After append: array('i', [1, 2, 3, 4])\n",
      "After insert: array('i', [1, 5, 2, 3, 4])\n",
      "After pop (last element): array('i', [1, 5, 2, 3]), Popped: 4\n",
      "After pop (first element): array('i', [5, 2, 3]), Popped: 1\n",
      "After remove: array('i', [5, 3])\n",
      "Index of 3: 1\n",
      "After reverse: array('i', [3, 5])\n",
      "After extend: array('i', [3, 5, 6, 7, 8])\n",
      "Count of 5: 1\n",
      "Buffer info: (2570865252464, 5)\n",
      "Array as list: [3, 5, 6, 7, 8]\n",
      "After fromlist: array('i', [3, 5, 6, 7, 8, 9, 10])\n",
      "Array from bytes: array('i', [3, 5, 6, 7, 8, 9, 10])\n",
      "Array as bytes: b'\\x03\\x00\\x00\\x00\\x05\\x00\\x00\\x00\\x06\\x00\\x00\\x00\\x07\\x00\\x00\\x00\\x08\\x00\\x00\\x00\\t\\x00\\x00\\x00\\n\\x00\\x00\\x00'\n"
     ]
    }
   ],
   "source": [
    "from array import array\n",
    "\n",
    "# 1. append(x): Adds an item x to the end of the array.\n",
    "arr = array('i', [1, 2, 3])\n",
    "arr.append(4)\n",
    "print(f\"After append: {arr}\")  # Output: array('i', [1, 2, 3, 4])\n",
    "\n",
    "# 2. insert(i, x): Inserts an item x at a specified position i.\n",
    "arr.insert(1, 5)\n",
    "print(f\"After insert: {arr}\")  # Output: array('i', [1, 5, 2, 3, 4])\n",
    "\n",
    "# 3. pop([i]): Removes and returns the item at position i.\n",
    "popped = arr.pop()  # Removes the last element\n",
    "print(f\"After pop (last element): {arr}, Popped: {popped}\")  # Output: array('i', [1, 5, 2, 3]), Popped: 4\n",
    "popped = arr.pop(0)  # Removes the first element\n",
    "print(f\"After pop (first element): {arr}, Popped: {popped}\")  # Output: array('i', [5, 2, 3]), Popped: 1\n",
    "\n",
    "# 4. remove(x): Removes the first occurrence of the item x.\n",
    "arr.remove(2)\n",
    "print(f\"After remove: {arr}\")  # Output: array('i', [5, 3])\n",
    "\n",
    "# 5. index(x): Returns the index of the first occurrence of the item x.\n",
    "index = arr.index(3)\n",
    "print(f\"Index of 3: {index}\")  # Output: 1\n",
    "\n",
    "# 6. reverse(): Reverses the order of the items in the array.\n",
    "arr.reverse()\n",
    "print(f\"After reverse: {arr}\")  # Output: array('i', [3, 5])\n",
    "\n",
    "# 7. extend(iterable): Extends the array by appending elements from the given iterable.\n",
    "arr2 = array('i', [6, 7, 8])\n",
    "arr.extend(arr2)\n",
    "print(f\"After extend: {arr}\")  # Output: array('i', [3, 5, 6, 7, 8])\n",
    "\n",
    "# 8. count(x): Returns the number of occurrences of the item x in the array.\n",
    "count = arr.count(5)\n",
    "print(f\"Count of 5: {count}\")  # Output: 1\n",
    "\n",
    "# 9. buffer_info(): Returns a tuple containing the memory address and the length of the array.\n",
    "info = arr.buffer_info()\n",
    "print(f\"Buffer info: {info}\")  # Output: (memory_address, 5)\n",
    "\n",
    "# 10. byteswap(): Swaps the bytes of the array items (useful for changing byte order).\n",
    "# arr_byteswap = array('h', [1, 256, 65536])\n",
    "# arr_byteswap.byteswap()\n",
    "# print(f\"After byteswap: {arr_byteswap}\")  # Output: array('h', [256, 1, 0])\n",
    "\n",
    "# 11. tolist(): Converts the array into a regular Python list.\n",
    "lst = arr.tolist()\n",
    "print(f\"Array as list: {lst}\")  # Output: [3, 5, 6, 7, 8]\n",
    "\n",
    "# 12. fromlist(list): Appends items from a list to the array.\n",
    "arr.fromlist([9, 10])\n",
    "print(f\"After fromlist: {arr}\")  # Output: array('i', [3, 5, 6, 7, 8, 9, 10])\n",
    "\n",
    "# 13. frombytes(s): Converts a byte string into an array.\n",
    "byte_str = arr.tobytes()\n",
    "arr2 = array('i')\n",
    "arr2.frombytes(byte_str)\n",
    "print(f\"Array from bytes: {arr2}\")  # Output: array('i', [3, 5, 6, 7, 8, 9, 10])\n",
    "\n",
    "# 14. tobytes(): Converts the array into a byte string.\n",
    "byte_str = arr.tobytes()\n",
    "print(f\"Array as bytes: {byte_str}\")  # Output: byte string of the array\n",
    "\n"
   ]
  },
  {
   "cell_type": "code",
   "execution_count": null,
   "metadata": {},
   "outputs": [],
   "source": []
  },
  {
   "cell_type": "code",
   "execution_count": null,
   "metadata": {},
   "outputs": [],
   "source": []
  },
  {
   "cell_type": "code",
   "execution_count": 107,
   "metadata": {},
   "outputs": [
    {
     "data": {
      "text/plain": [
       "5"
      ]
     },
     "execution_count": 107,
     "metadata": {},
     "output_type": "execute_result"
    }
   ],
   "source": [
    "# Class \n",
    "\n",
    "\n",
    "class MyClass:\n",
    "  x = 5\n",
    "\n",
    "MyClass.x"
   ]
  },
  {
   "cell_type": "code",
   "execution_count": 108,
   "metadata": {},
   "outputs": [],
   "source": [
    "class Person:\n",
    "    def __init__(self ,name, age ):\n",
    "        self.name = name\n",
    "        self.age = age\n",
    "\n",
    "    def checking(self, title):\n",
    "        print(f'my name age is {self.age} and my name is {self.name} and the title is {title}')\n",
    "\n",
    "\n"
   ]
  },
  {
   "cell_type": "code",
   "execution_count": 110,
   "metadata": {},
   "outputs": [
    {
     "name": "stdout",
     "output_type": "stream",
     "text": [
      "my name age is 12 and my name is venu and the title is gopal\n"
     ]
    }
   ],
   "source": [
    "gg = Person(\"venu\", 12)\n",
    "gg.checking(\"gopal\")"
   ]
  },
  {
   "cell_type": "code",
   "execution_count": null,
   "metadata": {},
   "outputs": [],
   "source": []
  },
  {
   "cell_type": "markdown",
   "metadata": {},
   "source": [
    "# OOPS concepts "
   ]
  },
  {
   "cell_type": "code",
   "execution_count": 129,
   "metadata": {},
   "outputs": [],
   "source": [
    "# Class in Python\n",
    "# Objects in Python\n",
    "# Inheritance in Python\n",
    "# Polymorphism in Python\n",
    "# Encapsulation in Python\n",
    "# Data Abstraction in Python"
   ]
  },
  {
   "cell_type": "code",
   "execution_count": 131,
   "metadata": {},
   "outputs": [
    {
     "name": "stdout",
     "output_type": "stream",
     "text": [
      "Name: Mountain Bike, Gears: 11 \n"
     ]
    }
   ],
   "source": [
    "# Class and objects in python\n",
    "\n",
    "# define a class\n",
    "class Bike:\n",
    "    name = \"\"\n",
    "    gear = 0\n",
    "\n",
    "# create object of class\n",
    "bike1 = Bike()\n",
    "\n",
    "# access attributes and assign new values\n",
    "bike1.gear = 11\n",
    "bike1.name = \"Mountain Bike\"\n",
    "\n",
    "print(f\"Name: {bike1.name}, Gears: {bike1.gear} \")"
   ]
  },
  {
   "cell_type": "code",
   "execution_count": null,
   "metadata": {},
   "outputs": [],
   "source": []
  },
  {
   "cell_type": "code",
   "execution_count": 133,
   "metadata": {},
   "outputs": [
    {
     "name": "stdout",
     "output_type": "stream",
     "text": [
      "Area of Room = 1309.0\n"
     ]
    }
   ],
   "source": [
    "# python method \n",
    "# A Python function defined inside a class is called a method.\n",
    "\n",
    "# create a class\n",
    "class Room:\n",
    "    length = 0.0\n",
    "    breadth = 0.0\n",
    "    \n",
    "    # method to calculate area\n",
    "    def calculate_area(self):\n",
    "        print(\"Area of Room =\", self.length * self.breadth)\n",
    "\n",
    "# create object of Room class\n",
    "study_room = Room()\n",
    "\n",
    "# assign values to all the properties \n",
    "study_room.length = 42.5\n",
    "study_room.breadth = 30.8\n",
    "\n",
    "# access method inside class\n",
    "study_room.calculate_area()"
   ]
  },
  {
   "cell_type": "code",
   "execution_count": null,
   "metadata": {},
   "outputs": [],
   "source": []
  },
  {
   "cell_type": "code",
   "execution_count": 134,
   "metadata": {},
   "outputs": [],
   "source": [
    "# constructor\n",
    "# _init__() is contructor function \n",
    "\n",
    "class Bike:\n",
    "\n",
    "    # constructor function    \n",
    "    def __init__(self, name = \"\"):\n",
    "        self.name = name\n",
    "\n",
    "bike1 = Bike()"
   ]
  },
  {
   "cell_type": "code",
   "execution_count": null,
   "metadata": {},
   "outputs": [],
   "source": []
  },
  {
   "cell_type": "code",
   "execution_count": null,
   "metadata": {},
   "outputs": [],
   "source": []
  },
  {
   "cell_type": "markdown",
   "metadata": {},
   "source": [
    "##  Inheritance"
   ]
  },
  {
   "cell_type": "code",
   "execution_count": 135,
   "metadata": {},
   "outputs": [
    {
     "name": "stdout",
     "output_type": "stream",
     "text": [
      "I can eat\n",
      "My name is  Rohu\n"
     ]
    }
   ],
   "source": [
    "# Inheritance \n",
    "\n",
    "class Animal:\n",
    "\n",
    "    # attribute and method of the parent class\n",
    "    name = \"\"\n",
    "    \n",
    "    def eat(self):\n",
    "        print(\"I can eat\")\n",
    "\n",
    "# inherit from Animal\n",
    "class Dog(Animal):\n",
    "\n",
    "    # new method in subclass\n",
    "    def display(self):\n",
    "        # access name attribute of superclass using self\n",
    "        print(\"My name is \", self.name)\n",
    "\n",
    "# create an object of the subclass\n",
    "labrador = Dog()\n",
    "\n",
    "# access superclass attribute and method \n",
    "labrador.name = \"Rohu\"\n",
    "labrador.eat()\n",
    "\n",
    "# call subclass method \n",
    "labrador.display()"
   ]
  },
  {
   "cell_type": "code",
   "execution_count": null,
   "metadata": {},
   "outputs": [],
   "source": []
  },
  {
   "cell_type": "code",
   "execution_count": 138,
   "metadata": {},
   "outputs": [
    {
     "name": "stdout",
     "output_type": "stream",
     "text": [
      "Name: Alice\n",
      "Age: 10\n"
     ]
    }
   ],
   "source": [
    "# single Inheritances \n",
    "\n",
    "#  a -> b\n",
    "\n",
    "class Parent:\n",
    "    def __init__(self, name):\n",
    "        self.name = name\n",
    "\n",
    "    def display_name(self):\n",
    "        print(f\"Name: {self.name}\")\n",
    "\n",
    "class Child(Parent):\n",
    "    def __init__(self, name, age):\n",
    "        super().__init__(name)\n",
    "        self.age = age\n",
    "\n",
    "    def display_age(self):\n",
    "        print(f\"Age: {self.age}\")\n",
    "\n",
    "# Usage\n",
    "child = Child(\"Alice\", 10)\n",
    "child.display_name()  # Output: Name: Alice\n",
    "child.display_age()   # Output: Age: 10\n"
   ]
  },
  {
   "cell_type": "code",
   "execution_count": 139,
   "metadata": {},
   "outputs": [
    {
     "name": "stdout",
     "output_type": "stream",
     "text": [
      "Father's Name: John\n",
      "Mother's Name: Jane\n",
      "Child's Name: Alice\n"
     ]
    }
   ],
   "source": [
    "# double Inheritances \n",
    "\n",
    "# a -> c\n",
    "# b -> c\n",
    "\n",
    "class Father:\n",
    "    def __init__(self, father_name):\n",
    "        self.father_name = father_name\n",
    "\n",
    "    def display_father_name(self):\n",
    "        print(f\"Father's Name: {self.father_name}\")\n",
    "\n",
    "class Mother:\n",
    "    def __init__(self, mother_name):\n",
    "        self.mother_name = mother_name\n",
    "\n",
    "    def display_mother_name(self):\n",
    "        print(f\"Mother's Name: {self.mother_name}\")\n",
    "\n",
    "class Child(Father, Mother):\n",
    "    def __init__(self, father_name, mother_name, child_name):\n",
    "        Father.__init__(self, father_name)\n",
    "        Mother.__init__(self, mother_name)\n",
    "        self.child_name = child_name\n",
    "\n",
    "    def display_child_name(self):\n",
    "        print(f\"Child's Name: {self.child_name}\")\n",
    "\n",
    "# Usage\n",
    "child = Child(\"John\", \"Jane\", \"Alice\")\n",
    "child.display_father_name()  # Output: Father's Name: John\n",
    "child.display_mother_name()  # Output: Mother's Name: Jane\n",
    "child.display_child_name()   # Output: Child's Name: Alice\n"
   ]
  },
  {
   "cell_type": "code",
   "execution_count": 141,
   "metadata": {},
   "outputs": [
    {
     "name": "stdout",
     "output_type": "stream",
     "text": [
      "Grandparent's Name: James\n",
      "Parent's Name: John\n",
      "Child's Name: Alice\n"
     ]
    }
   ],
   "source": [
    "# -------------------------------- need to check once -----------------------------------------------------\n",
    "#  what is super() why not some times \n",
    "\n",
    "\n",
    "# multi level Inheritance\n",
    "\n",
    "# a -> b -> c\n",
    "\n",
    "\n",
    "\n",
    "class Grandparent:\n",
    "    def __init__(self, grandparent_name):\n",
    "        self.grandparent_name = grandparent_name\n",
    "\n",
    "    def display_grandparent_name(self):\n",
    "        print(f\"Grandparent's Name: {self.grandparent_name}\")\n",
    "\n",
    "class Parent(Grandparent):\n",
    "    def __init__(self, grandparent_name, parent_name):\n",
    "        super().__init__(grandparent_name)\n",
    "        self.parent_name = parent_name\n",
    "\n",
    "    def display_parent_name(self):\n",
    "        print(f\"Parent's Name: {self.parent_name}\")\n",
    "\n",
    "class Child(Parent):\n",
    "    def __init__(self, grandparent_name, parent_name, child_name):\n",
    "        super().__init__(grandparent_name, parent_name)\n",
    "        self.child_name = child_name\n",
    "\n",
    "    def display_child_name(self):\n",
    "        print(f\"Child's Name: {self.child_name}\")\n",
    "\n",
    "# Usage\n",
    "child = Child(\"James\", \"John\", \"Alice\")\n",
    "child.display_grandparent_name()  # Output: Grandparent's Name: James\n",
    "child.display_parent_name()       # Output: Parent's Name: John\n",
    "child.display_child_name()        # Output: Child's Name: Alice\n"
   ]
  },
  {
   "cell_type": "code",
   "execution_count": null,
   "metadata": {},
   "outputs": [],
   "source": []
  },
  {
   "cell_type": "code",
   "execution_count": 142,
   "metadata": {},
   "outputs": [
    {
     "name": "stdout",
     "output_type": "stream",
     "text": [
      "Name: Alice\n",
      "Role: Child1\n",
      "Name: Bob\n",
      "Role: Child2\n"
     ]
    }
   ],
   "source": [
    "# hierarchical Inheritance\n",
    "\n",
    "# a - > b\n",
    "# a  -> c\n",
    "# a -> d  \n",
    "\n",
    "class Parent:\n",
    "    def __init__(self, name):\n",
    "        self.name = name\n",
    "\n",
    "    def display_name(self):\n",
    "        print(f\"Name: {self.name}\")\n",
    "\n",
    "class Child1(Parent):\n",
    "    def display_role(self):\n",
    "        print(\"Role: Child1\")\n",
    "\n",
    "class Child2(Parent):\n",
    "    def display_role(self):\n",
    "        print(\"Role: Child2\")\n",
    "\n",
    "# Usage\n",
    "child1 = Child1(\"Alice\")\n",
    "child1.display_name()  # Output: Name: Alice\n",
    "child1.display_role()  # Output: Role: Child1\n",
    "\n",
    "child2 = Child2(\"Bob\")\n",
    "child2.display_name()  # Output: Name: Bob\n",
    "child2.display_role()  # Output: Role: Child2\n"
   ]
  },
  {
   "cell_type": "code",
   "execution_count": 143,
   "metadata": {},
   "outputs": [
    {
     "name": "stdout",
     "output_type": "stream",
     "text": [
      "This is Grandparent\n",
      "This is Parent1\n",
      "This is Parent2\n",
      "This is Child\n"
     ]
    }
   ],
   "source": [
    "# Hybrid Inheritance\n",
    "# combinatation of two or more types of inheritance \n",
    "\n",
    "class Grandparent:\n",
    "    def display_grandparent(self):\n",
    "        print(\"This is Grandparent\")\n",
    "\n",
    "class Parent1(Grandparent):\n",
    "    def display_parent1(self):\n",
    "        print(\"This is Parent1\")\n",
    "\n",
    "class Parent2(Grandparent):\n",
    "    def display_parent2(self):\n",
    "        print(\"This is Parent2\")\n",
    "\n",
    "class Child(Parent1, Parent2):\n",
    "    def display_child(self):\n",
    "        print(\"This is Child\")\n",
    "\n",
    "# Usage\n",
    "child = Child()\n",
    "child.display_grandparent()  # Output: This is Grandparent\n",
    "child.display_parent1()      # Output: This is Parent1\n",
    "child.display_parent2()      # Output: This is Parent2\n",
    "child.display_child()        # Output: This is Child\n"
   ]
  },
  {
   "cell_type": "code",
   "execution_count": null,
   "metadata": {},
   "outputs": [],
   "source": []
  },
  {
   "cell_type": "code",
   "execution_count": 144,
   "metadata": {},
   "outputs": [],
   "source": [
    "# Iterator vs Iterable\n",
    "\n",
    "#  list , set , dict , tuple all are iterable objects \n",
    "\n",
    "#  ------------------------ need to check once again this topics ----------------------------------------\n",
    "\n"
   ]
  },
  {
   "cell_type": "code",
   "execution_count": null,
   "metadata": {},
   "outputs": [],
   "source": []
  },
  {
   "cell_type": "code",
   "execution_count": 145,
   "metadata": {},
   "outputs": [
    {
     "name": "stdout",
     "output_type": "stream",
     "text": [
      "Ford\n",
      "Mustang\n",
      "Move!\n",
      "Ibiza\n",
      "Touring 20\n",
      "Sail!\n",
      "Boeing\n",
      "747\n",
      "Fly!\n"
     ]
    }
   ],
   "source": [
    "# polymorphism \n",
    "\n",
    "# while creating class methods as Python allows different classes to have methods with the same name.\n",
    "\n",
    "\n",
    "class Vehicle:\n",
    "  def __init__(self, brand, model):\n",
    "    self.brand = brand\n",
    "    self.model = model\n",
    "\n",
    "  def move(self):\n",
    "    print(\"Move!\")\n",
    "\n",
    "class Car(Vehicle):\n",
    "  pass\n",
    "\n",
    "class Boat(Vehicle):\n",
    "  def move(self):\n",
    "    print(\"Sail!\")\n",
    "\n",
    "class Plane(Vehicle):\n",
    "  def move(self):\n",
    "    print(\"Fly!\")\n",
    "\n",
    "car1 = Car(\"Ford\", \"Mustang\") #Create a Car object\n",
    "boat1 = Boat(\"Ibiza\", \"Touring 20\") #Create a Boat object\n",
    "plane1 = Plane(\"Boeing\", \"747\") #Create a Plane object\n",
    "\n",
    "for x in (car1, boat1, plane1):\n",
    "  print(x.brand)\n",
    "  print(x.model)\n",
    "  x.move()"
   ]
  },
  {
   "cell_type": "code",
   "execution_count": 146,
   "metadata": {},
   "outputs": [
    {
     "name": "stdout",
     "output_type": "stream",
     "text": [
      "Circle\n",
      "I am a two-dimensional shape.\n",
      "Squares have each angle equal to 90 degrees.\n",
      "153.93804002589985\n"
     ]
    }
   ],
   "source": [
    "# example 2 \n",
    "from math import pi\n",
    "\n",
    "\n",
    "class Shape:\n",
    "    def __init__(self, name):\n",
    "        self.name = name\n",
    "\n",
    "    def area(self):\n",
    "        pass\n",
    "\n",
    "    def fact(self):\n",
    "        return \"I am a two-dimensional shape.\"\n",
    "\n",
    "    def __str__(self):\n",
    "        return self.name\n",
    "\n",
    "\n",
    "class Square(Shape):\n",
    "    def __init__(self, length):\n",
    "        super().__init__(\"Square\")\n",
    "        self.length = length\n",
    "\n",
    "    def area(self):\n",
    "        return self.length**2\n",
    "\n",
    "    def fact(self):\n",
    "        return \"Squares have each angle equal to 90 degrees.\"\n",
    "\n",
    "\n",
    "class Circle(Shape):\n",
    "    def __init__(self, radius):\n",
    "        super().__init__(\"Circle\")\n",
    "        self.radius = radius\n",
    "\n",
    "    def area(self):\n",
    "        return pi*self.radius**2\n",
    "\n",
    "\n",
    "a = Square(4)\n",
    "b = Circle(7)\n",
    "print(b)\n",
    "print(b.fact())\n",
    "print(a.fact())\n",
    "print(b.area())\n"
   ]
  },
  {
   "cell_type": "code",
   "execution_count": null,
   "metadata": {},
   "outputs": [],
   "source": []
  },
  {
   "cell_type": "code",
   "execution_count": 148,
   "metadata": {},
   "outputs": [],
   "source": [
    "# Encapsulation \n",
    "\n",
    "# ----------------------- need to check this once again ------------------------------\n"
   ]
  },
  {
   "cell_type": "code",
   "execution_count": null,
   "metadata": {},
   "outputs": [],
   "source": []
  },
  {
   "cell_type": "code",
   "execution_count": 149,
   "metadata": {},
   "outputs": [
    {
     "name": "stdout",
     "output_type": "stream",
     "text": [
      "Can't instantiate abstract class parent with abstract method geeks\n",
      "child class\n"
     ]
    }
   ],
   "source": [
    "# Data abstraction in python\n",
    "\n",
    "#  ------------------------- need to check this once again ---------------------------\n",
    "\n",
    "\n",
    "# Python program showing\n",
    "# abstract properties\n",
    "\n",
    "import abc\n",
    "from abc import ABC, abstractmethod\n",
    "\n",
    "\n",
    "class parent(ABC):\n",
    "    @abc.abstractproperty\n",
    "    def geeks(self):\n",
    "        return \"parent class\"\n",
    "\n",
    "\n",
    "class child(parent):\n",
    "\n",
    "    @property\n",
    "    def geeks(self):\n",
    "        return \"child class\"\n",
    "\n",
    "\n",
    "try:\n",
    "    r = parent()\n",
    "    print(r.geeks)\n",
    "except Exception as err:\n",
    "    print(err)\n",
    "\n",
    "r = child()\n",
    "print(r.geeks)\n",
    "\n",
    "\n"
   ]
  },
  {
   "cell_type": "code",
   "execution_count": null,
   "metadata": {},
   "outputs": [],
   "source": []
  },
  {
   "cell_type": "code",
   "execution_count": null,
   "metadata": {},
   "outputs": [],
   "source": []
  },
  {
   "cell_type": "code",
   "execution_count": null,
   "metadata": {},
   "outputs": [],
   "source": []
  },
  {
   "cell_type": "code",
   "execution_count": 150,
   "metadata": {},
   "outputs": [
    {
     "name": "stdout",
     "output_type": "stream",
     "text": [
      "Vector(3, 7)\n",
      "Vector(1, -1)\n",
      "Vector(6, 9)\n",
      "False\n",
      "True\n",
      "True\n"
     ]
    }
   ],
   "source": [
    "# Python Operator Overloading\n",
    "\n",
    "class Vector:\n",
    "    def __init__(self, x, y):\n",
    "        self.x = x\n",
    "        self.y = y\n",
    "\n",
    "    # Overloading the + operator\n",
    "    def __add__(self, other):\n",
    "        return Vector(self.x + other.x, self.y + other.y)\n",
    "\n",
    "    # Overloading the - operator\n",
    "    def __sub__(self, other):\n",
    "        return Vector(self.x - other.x, self.y - other.y)\n",
    "\n",
    "    # Overloading the * operator\n",
    "    def __mul__(self, scalar):\n",
    "        return Vector(self.x * scalar, self.y * scalar)\n",
    "\n",
    "    # Overloading the == operator\n",
    "    def __eq__(self, other):\n",
    "        return self.x == other.x and self.y == other.y\n",
    "\n",
    "    # Overloading the < operator\n",
    "    def __lt__(self, other):\n",
    "        return (self.x**2 + self.y**2) < (other.x**2 + other.y**2)\n",
    "\n",
    "    # Overloading the <= operator\n",
    "    def __le__(self, other):\n",
    "        return (self.x**2 + self.y**2) <= (other.x**2 + other.y**2)\n",
    "\n",
    "    # Overloading the str() function\n",
    "    def __str__(self):\n",
    "        return f\"Vector({self.x}, {self.y})\"\n",
    "\n",
    "# Usage examples\n",
    "v1 = Vector(2, 3)\n",
    "v2 = Vector(1, 4)\n",
    "\n",
    "print(v1 + v2)  # Output: Vector(3, 7)\n",
    "print(v1 - v2)  # Output: Vector(1, -1)\n",
    "print(v1 * 3)   # Output: Vector(6, 9)\n",
    "print(v1 == v2) # Output: False\n",
    "print(v1 < v2)  # Output: False\n",
    "print(v1 <= v2) # Output: False\n"
   ]
  },
  {
   "cell_type": "code",
   "execution_count": null,
   "metadata": {},
   "outputs": [],
   "source": []
  },
  {
   "cell_type": "code",
   "execution_count": 151,
   "metadata": {},
   "outputs": [
    {
     "name": "stdout",
     "output_type": "stream",
     "text": [
      "[2, 4, 6, 8]\n"
     ]
    }
   ],
   "source": [
    "# list comprehension\n",
    "numbers = [1, 2, 3, 4]\n",
    "\n",
    "# list comprehension to create new list\n",
    "doubled_numbers = [num * 2 for num in numbers]\n",
    "\n",
    "print(doubled_numbers)"
   ]
  },
  {
   "cell_type": "code",
   "execution_count": 153,
   "metadata": {},
   "outputs": [
    {
     "name": "stdout",
     "output_type": "stream",
     "text": [
      "0\n",
      "1\n"
     ]
    }
   ],
   "source": [
    "## Generatore \n",
    "# ------------------------------- need to check once again ------------------------------------\n",
    "\n",
    "def my_generator(n):\n",
    "\n",
    "    # initialize counter\n",
    "    value = 0\n",
    "\n",
    "    # loop until counter is less than n\n",
    "    while value < n:\n",
    "\n",
    "        # produce the current value of the counter\n",
    "        yield value\n",
    "\n",
    "        # increment the counter\n",
    "        value += 1\n",
    "\n",
    "# iterate over the generator object produced by my_generator\n",
    "for value in my_generator(2):\n",
    "\n",
    "    # print each value produced by generator\n",
    "    print(value)"
   ]
  },
  {
   "cell_type": "code",
   "execution_count": null,
   "metadata": {},
   "outputs": [],
   "source": []
  },
  {
   "cell_type": "code",
   "execution_count": null,
   "metadata": {},
   "outputs": [],
   "source": []
  },
  {
   "cell_type": "code",
   "execution_count": 155,
   "metadata": {},
   "outputs": [
    {
     "name": "stdout",
     "output_type": "stream",
     "text": [
      "11\n"
     ]
    }
   ],
   "source": [
    "# Nested function \n",
    "def outer(x):\n",
    "    def inner(y):\n",
    "        return x + y\n",
    "    return inner\n",
    "\n",
    "add_five = outer(5)\n",
    "result = add_five(6)\n",
    "print(result)  # prints 11\n",
    "\n",
    "# Output: 11"
   ]
  },
  {
   "cell_type": "code",
   "execution_count": 156,
   "metadata": {},
   "outputs": [
    {
     "name": "stdout",
     "output_type": "stream",
     "text": [
      "10\n"
     ]
    }
   ],
   "source": [
    "# pass function as argument \n",
    "def add(x, y):\n",
    "    return x + y\n",
    "\n",
    "def calculate(func, x, y):\n",
    "    return func(x, y)\n",
    "\n",
    "result = calculate(add, 4, 6)\n",
    "print(result)  # prints 10"
   ]
  },
  {
   "cell_type": "code",
   "execution_count": 157,
   "metadata": {},
   "outputs": [
    {
     "name": "stdout",
     "output_type": "stream",
     "text": [
      "Hello, Atlantis!\n"
     ]
    }
   ],
   "source": [
    "#  return function as output \n",
    "def greeting(name):\n",
    "    def hello():\n",
    "        return \"Hello, \" + name + \"!\"\n",
    "    return hello\n",
    "\n",
    "greet = greeting(\"Atlantis\")\n",
    "print(greet())  # prints \"Hello, Atlantis!\"\n",
    "\n",
    "# Output: Hello, Atlantis!"
   ]
  },
  {
   "cell_type": "code",
   "execution_count": 159,
   "metadata": {},
   "outputs": [
    {
     "name": "stdout",
     "output_type": "stream",
     "text": [
      "I got decorated\n",
      "I am ordinary\n",
      "I got decorated\n",
      "-----------\n",
      "I am ordinary\n"
     ]
    }
   ],
   "source": [
    "#  python Decorators \n",
    "\n",
    "\n",
    "# first we call this noramly \n",
    "\n",
    "def make_pretty(func):\n",
    "    # define the inner function \n",
    "    def inner():\n",
    "        # add some additional behavior to decorated function\n",
    "        print(\"I got decorated\")\n",
    "\n",
    "        # call original function\n",
    "        func()\n",
    "    # return the inner function\n",
    "    return inner\n",
    "\n",
    "# define ordinary function\n",
    "def ordinary():\n",
    "    print(\"I am ordinary\")\n",
    "    \n",
    "# decorate the ordinary function\n",
    "decorated_func = make_pretty(ordinary)\n",
    "\n",
    "# call the decorated function\n",
    "decorated_func()\n",
    "\n",
    "\n",
    "\n",
    "# with decorators \n",
    "\n",
    "def make_pretty(func):\n",
    "\n",
    "    def inner():\n",
    "        print(\"I got decorated\")\n",
    "        func()\n",
    "    return inner\n",
    "\n",
    "@make_pretty\n",
    "def ordinary():\n",
    "    print(\"-----------\")\n",
    "    print(\"I am ordinary\")\n",
    "\n",
    "ordinary()  "
   ]
  },
  {
   "cell_type": "code",
   "execution_count": null,
   "metadata": {},
   "outputs": [],
   "source": []
  }
 ],
 "metadata": {
  "kernelspec": {
   "display_name": "Python 3",
   "language": "python",
   "name": "python3"
  },
  "language_info": {
   "codemirror_mode": {
    "name": "ipython",
    "version": 3
   },
   "file_extension": ".py",
   "mimetype": "text/x-python",
   "name": "python",
   "nbconvert_exporter": "python",
   "pygments_lexer": "ipython3",
   "version": "3.11.9"
  }
 },
 "nbformat": 4,
 "nbformat_minor": 2
}
