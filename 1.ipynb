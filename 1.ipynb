{
 "cells": [
  {
   "cell_type": "markdown",
   "metadata": {},
   "source": [
    "## Basics of python "
   ]
  },
  {
   "cell_type": "code",
   "execution_count": 3,
   "metadata": {},
   "outputs": [],
   "source": [
    "# printing some text "
   ]
  },
  {
   "cell_type": "code",
   "execution_count": 4,
   "metadata": {},
   "outputs": [
    {
     "name": "stdout",
     "output_type": "stream",
     "text": [
      "hello , world\n"
     ]
    }
   ],
   "source": [
    "print(\"hello , world\")"
   ]
  },
  {
   "cell_type": "code",
   "execution_count": 5,
   "metadata": {},
   "outputs": [
    {
     "name": "stdout",
     "output_type": "stream",
     "text": [
      "hello ,world 123 @)#\n"
     ]
    }
   ],
   "source": [
    "print('hello ,world 123 @)#')"
   ]
  },
  {
   "cell_type": "code",
   "execution_count": null,
   "metadata": {},
   "outputs": [],
   "source": []
  },
  {
   "cell_type": "code",
   "execution_count": null,
   "metadata": {},
   "outputs": [],
   "source": []
  },
  {
   "cell_type": "code",
   "execution_count": 16,
   "metadata": {},
   "outputs": [],
   "source": [
    "# python comments \n",
    "# comments used for references for debugging"
   ]
  },
  {
   "cell_type": "code",
   "execution_count": 9,
   "metadata": {},
   "outputs": [
    {
     "name": "stdout",
     "output_type": "stream",
     "text": [
      "writing a single line comments starting with # \n"
     ]
    }
   ],
   "source": [
    "# print a numbers\n",
    "print(\"writing a single line comments starting with # \")"
   ]
  },
  {
   "cell_type": "code",
   "execution_count": 10,
   "metadata": {},
   "outputs": [
    {
     "name": "stdout",
     "output_type": "stream",
     "text": [
      "venu\n"
     ]
    }
   ],
   "source": [
    "# declare a variable \n",
    "name = \"venu\"\n",
    "\n",
    "# print name\n",
    "\n",
    "print(name)  # venu\n"
   ]
  },
  {
   "cell_type": "code",
   "execution_count": 12,
   "metadata": {},
   "outputs": [
    {
     "name": "stdout",
     "output_type": "stream",
     "text": [
      "mutiline comments\n"
     ]
    }
   ],
   "source": [
    "''' multiline strings \n",
    "as \n",
    "comments '''\n",
    "print('mutiline comments')"
   ]
  },
  {
   "cell_type": "code",
   "execution_count": 14,
   "metadata": {},
   "outputs": [],
   "source": [
    "# if we comment the line it won't excuite the code of that line\n",
    "# print(\"venu\")"
   ]
  },
  {
   "cell_type": "code",
   "execution_count": null,
   "metadata": {},
   "outputs": [],
   "source": []
  },
  {
   "cell_type": "code",
   "execution_count": null,
   "metadata": {},
   "outputs": [],
   "source": []
  },
  {
   "cell_type": "code",
   "execution_count": 17,
   "metadata": {},
   "outputs": [],
   "source": [
    "#python variables and literals "
   ]
  },
  {
   "cell_type": "code",
   "execution_count": null,
   "metadata": {},
   "outputs": [],
   "source": [
    "# -Start with a Letter or Underscore: Variable names must begin with a letter (a-z, A-Z) or an underscore (_). They cannot start with a digit.\n",
    "# -Follow with Letters, Digits, or Underscores: After the first character, variable names can include letters, digits (0-9), and underscores.\n",
    "# -Case Sensitivity: Variable names are case-sensitive. For example, myVar, MyVar, and MYVAR are considered different variables.\n",
    "# -No Reserved Keywords: Variable names cannot be the same as Python's reserved keywords (e.g., class, for, if, while, etc.).\n",
    "# -Descriptive Names: Use descriptive names that make it clear what the variable represents. For example, total_price is more descriptive than tp.\n",
    "# -Use Snake Case for Variables: By convention, use lowercase letters with underscores separating words (e.g., user_age, total_amount).\n",
    "# -Avoid Special Characters: Variable names cannot include special characters like @, $, or %.\n",
    "# -No Spaces: Variable names cannot contain spaces. Use underscores to separate words instead.\n",
    "# -Be Mindful of Length: While variable names can be long, they should be concise enough to be readable and understandable\n"
   ]
  },
  {
   "cell_type": "code",
   "execution_count": 19,
   "metadata": {},
   "outputs": [
    {
     "name": "stdout",
     "output_type": "stream",
     "text": [
      "venu_gopal\n"
     ]
    }
   ],
   "source": [
    "number =10\n",
    "name_as_required = \"venu_gopal\"\n",
    "print(name_as_required)"
   ]
  },
  {
   "cell_type": "code",
   "execution_count": 21,
   "metadata": {},
   "outputs": [
    {
     "name": "stdout",
     "output_type": "stream",
     "text": [
      "venu_gopal\n",
      "---------------------------------------------\n",
      "gopal\n"
     ]
    }
   ],
   "source": [
    "name_as_required = \"venu_gopal\"\n",
    "print(name_as_required)\n",
    "print(\"---------\"*5)\n",
    "name_as_required = \"gopal\"\n",
    "print(name_as_required)"
   ]
  },
  {
   "cell_type": "code",
   "execution_count": 40,
   "metadata": {},
   "outputs": [],
   "source": [
    "# some examples of key words \n",
    "myvar = \"John\"\n",
    "my_var = \"John\"\n",
    "_my_var = \"John\"\n",
    "myVar = \"John\"\n",
    "MYVAR = \"John\"\n",
    "myvar2 = \"John\""
   ]
  },
  {
   "cell_type": "code",
   "execution_count": 22,
   "metadata": {},
   "outputs": [],
   "source": [
    "# assiging multiple values to multipule variables \n"
   ]
  },
  {
   "cell_type": "code",
   "execution_count": 23,
   "metadata": {},
   "outputs": [
    {
     "name": "stdout",
     "output_type": "stream",
     "text": [
      "5\n",
      "3.1\n",
      "venu\n"
     ]
    }
   ],
   "source": [
    "a,b,c, =5,3.1,\"venu\"\n",
    "print(a) # 5\n",
    "print(b) # 3.1\n",
    "print(c) # venu"
   ]
  },
  {
   "cell_type": "code",
   "execution_count": 24,
   "metadata": {},
   "outputs": [
    {
     "name": "stdout",
     "output_type": "stream",
     "text": [
      "testing\n",
      "testing\n"
     ]
    }
   ],
   "source": [
    "# same value to mulitple variables \n",
    "s1, s2 = \"testing\"\n",
    "print(s1)\n",
    "print(s2)"
   ]
  },
  {
   "cell_type": "code",
   "execution_count": 41,
   "metadata": {},
   "outputs": [
    {
     "name": "stdout",
     "output_type": "stream",
     "text": [
      "testing1\n",
      "testing2\n"
     ]
    }
   ],
   "source": [
    "# same value to mulitple variables \n",
    "s1, s2 = \"testing1\",\"testing2\"\n",
    "print(s1)\n",
    "print(s2)"
   ]
  },
  {
   "cell_type": "code",
   "execution_count": 25,
   "metadata": {},
   "outputs": [],
   "source": [
    "# literals"
   ]
  },
  {
   "cell_type": "code",
   "execution_count": 33,
   "metadata": {},
   "outputs": [
    {
     "name": "stdout",
     "output_type": "stream",
     "text": [
      "text or word we call it as string\n",
      "<class 'str'>\n",
      "------\n",
      "10\n",
      "<class 'int'>\n",
      "------\n",
      "2.1\n",
      "<class 'float'>\n",
      "------\n",
      "(6+9j)\n",
      "<class 'complex'>\n"
     ]
    }
   ],
   "source": [
    "# strings \n",
    "a = \"text or word we call it as string\"\n",
    "print(a)\n",
    "print(type(a))\n",
    "# Integer \n",
    "print(\"------\")\n",
    "b = 10\n",
    "print(b)\n",
    "print(type(b))\n",
    "print(\"------\")\n",
    "# floating points \n",
    "c =2.1\n",
    "print(c)\n",
    "print(type(c))\n",
    "print(\"------\")\n",
    "\n",
    "d = 6+9j\n",
    "print(d)\n",
    "print(type(d))\n",
    "\n"
   ]
  },
  {
   "cell_type": "code",
   "execution_count": null,
   "metadata": {},
   "outputs": [],
   "source": []
  },
  {
   "cell_type": "code",
   "execution_count": null,
   "metadata": {},
   "outputs": [],
   "source": []
  },
  {
   "cell_type": "code",
   "execution_count": 38,
   "metadata": {},
   "outputs": [
    {
     "name": "stdout",
     "output_type": "stream",
     "text": [
      "4 test'\n"
     ]
    }
   ],
   "source": [
    "#Case -Sensitive \n",
    "a=4\n",
    "A=\"test'\"\n",
    "print(a,A)"
   ]
  },
  {
   "cell_type": "code",
   "execution_count": 42,
   "metadata": {},
   "outputs": [
    {
     "name": "stdout",
     "output_type": "stream",
     "text": [
      "apple\n",
      "banana\n",
      "cherry\n"
     ]
    }
   ],
   "source": [
    "# Unpack a collection\n",
    "fruits = [\"apple\", \"banana\", \"cherry\"]\n",
    "x, y, z = fruits\n",
    "print(x)\n",
    "print(y)\n",
    "print(z)"
   ]
  },
  {
   "cell_type": "code",
   "execution_count": 44,
   "metadata": {},
   "outputs": [
    {
     "name": "stdout",
     "output_type": "stream",
     "text": [
      "Python is fantastic\n"
     ]
    }
   ],
   "source": [
    "# global variable \n",
    "x = \"awesome\"\n",
    "\n",
    "def myfunc():\n",
    "  global x\n",
    "  x = \"fantastic\"\n",
    "\n",
    "myfunc()\n",
    "\n",
    "print(\"Python is \" + x)"
   ]
  },
  {
   "cell_type": "code",
   "execution_count": null,
   "metadata": {},
   "outputs": [],
   "source": []
  },
  {
   "cell_type": "code",
   "execution_count": null,
   "metadata": {},
   "outputs": [],
   "source": []
  },
  {
   "cell_type": "code",
   "execution_count": 47,
   "metadata": {},
   "outputs": [],
   "source": [
    "### Data Types \n",
    "\n",
    "# url : https://www.w3schools.com/python/python_datatypes.asp"
   ]
  },
  {
   "cell_type": "code",
   "execution_count": null,
   "metadata": {},
   "outputs": [],
   "source": [
    "# Text Type:\tstr\n",
    "# Numeric Types:\tint, float, complex\n",
    "# Sequence Types:\tlist, tuple, range\n",
    "# Mapping Type:\tdict\n",
    "# Set Types:\tset, frozenset\n",
    "# Boolean Type:\tbool\n",
    "# Binary Types:\tbytes, bytearray, memoryview\n",
    "# None Type:\tNoneType"
   ]
  },
  {
   "cell_type": "code",
   "execution_count": null,
   "metadata": {},
   "outputs": [],
   "source": []
  },
  {
   "cell_type": "code",
   "execution_count": 49,
   "metadata": {},
   "outputs": [
    {
     "name": "stdout",
     "output_type": "stream",
     "text": [
      "<class 'int'>\n",
      "<class 'float'>\n",
      "<class 'int'>\n"
     ]
    }
   ],
   "source": [
    "x = 1\n",
    "y = -87.7e100\n",
    "z = -3255522\n",
    "\n",
    "print(type(x))\n",
    "print(type(y))\n",
    "print(type(z))"
   ]
  },
  {
   "cell_type": "code",
   "execution_count": 62,
   "metadata": {},
   "outputs": [
    {
     "data": {
      "text/plain": [
       "2"
      ]
     },
     "execution_count": 62,
     "metadata": {},
     "output_type": "execute_result"
    }
   ],
   "source": [
    "# creating random numbers between tow \n",
    "import random\n",
    "\n",
    "random.randrange(1,9)"
   ]
  },
  {
   "cell_type": "code",
   "execution_count": 77,
   "metadata": {},
   "outputs": [
    {
     "data": {
      "text/plain": [
       "[38, 53, 4, 55, 79, 74, 65, 62, 99, 64]"
      ]
     },
     "execution_count": 77,
     "metadata": {},
     "output_type": "execute_result"
    }
   ],
   "source": [
    "# generating a sample random numbers  \n",
    "random.sample(range(1, 101), 10)"
   ]
  },
  {
   "cell_type": "code",
   "execution_count": 63,
   "metadata": {},
   "outputs": [
    {
     "name": "stdout",
     "output_type": "stream",
     "text": [
      "<class 'str'> <class 'int'> <class 'float'>\n"
     ]
    }
   ],
   "source": [
    "# casting \n",
    "x = str(3)    # x will be '3'\n",
    "y = int(3)    # y will be 3\n",
    "z = float(3)  # z will be 3.0\n",
    "print(type(x),type(y),type(z))"
   ]
  },
  {
   "cell_type": "code",
   "execution_count": 3,
   "metadata": {},
   "outputs": [],
   "source": [
    "def diff():\n",
    "    print(\"--------\"*5)"
   ]
  },
  {
   "cell_type": "code",
   "execution_count": 91,
   "metadata": {},
   "outputs": [
    {
     "name": "stdout",
     "output_type": "stream",
     "text": [
      "13\n",
      "----------------------------------------\n",
      "H\n",
      "e\n",
      "l\n",
      "l\n",
      "o\n",
      ",\n",
      " \n",
      "W\n",
      "o\n",
      "r\n",
      "l\n",
      "d\n",
      "!\n",
      "----------------------------------------\n",
      "False\n",
      "----------------------------------------\n",
      "llo\n",
      "----------------------------------------\n",
      "Hello\n",
      "----------------------------------------\n",
      ", World!\n",
      "----------------------------------------\n",
      "orl\n",
      "----------------------------------------\n",
      "HELLO, WORLD!\n",
      "----------------------------------------\n",
      "hello, world!\n",
      "----------------------------------------\n",
      "Hello, World!\n",
      "----------------------------------------\n",
      "jello, World!\n",
      "----------------------------------------\n",
      "['Hello', ' World!']\n",
      "----------------------------------------\n",
      "helloworld\n",
      "hello___world\n",
      "my age is 34.12\n"
     ]
    }
   ],
   "source": [
    "# string \n",
    "a = \"Hello, World!\"\n",
    "print(len(a))\n",
    "diff()\n",
    "for i in a:\n",
    "    print(i)\n",
    "diff()\n",
    "print(\"hello\" in a)\n",
    "diff()\n",
    "print(a[2:5])\n",
    "diff()\n",
    "print(a[:5])\n",
    "diff()\n",
    "print(a[5:])\n",
    "diff()\n",
    "print(a[-5:-2])\n",
    "diff()\n",
    "print(a.upper())  # making upper case\n",
    "diff()\n",
    "print(a.lower())  # making lower case \n",
    "diff()\n",
    "print(a.strip())  # removing white spaces\n",
    "diff()\n",
    "print(a.replace(\"H\",\"j\")) # replacing the H with j\n",
    "diff()\n",
    "print(a.split(',')) # spliting at ','\n",
    "diff()\n",
    "\n",
    "\n",
    "a = \"hello\"\n",
    "b = \"world\"\n",
    "print(a+b) # adding two strings \n",
    "print(a+\"___\"+b)\n",
    "c =34.12222\n",
    "print(f'my age is {c:.2f}') # untill to decimals \n",
    "\n"
   ]
  },
  {
   "cell_type": "code",
   "execution_count": null,
   "metadata": {},
   "outputs": [],
   "source": []
  },
  {
   "cell_type": "code",
   "execution_count": null,
   "metadata": {},
   "outputs": [],
   "source": []
  },
  {
   "cell_type": "code",
   "execution_count": 31,
   "metadata": {},
   "outputs": [],
   "source": [
    "# Boolean (True , False)"
   ]
  },
  {
   "cell_type": "code",
   "execution_count": 95,
   "metadata": {},
   "outputs": [
    {
     "name": "stdout",
     "output_type": "stream",
     "text": [
      "<class 'bool'>\n",
      "True\n",
      "False\n",
      "False\n"
     ]
    }
   ],
   "source": [
    "is_pass = True\n",
    "print(type(is_pass))\n",
    "print(10 > 9)\n",
    "print(10 == 9)\n",
    "print(10 < 9)"
   ]
  },
  {
   "cell_type": "code",
   "execution_count": 93,
   "metadata": {},
   "outputs": [
    {
     "name": "stdout",
     "output_type": "stream",
     "text": [
      "PYTHON PROGRAMMING\n",
      "hello world\n",
      "Python Programming\n",
      "Python programming\n",
      "Hello World\n",
      "Hello World  \n",
      "  Hello World\n",
      "6\n",
      "-1\n",
      "6\n",
      "-1\n",
      "6\n",
      "6\n",
      "hello Python example\n",
      "['python', 'programming']\n",
      "['hello', 'world', 'example']\n",
      "['line 1', 'line 2', 'line 3']\n",
      "0012345\n",
      "True\n",
      "True\n",
      "True\n",
      "True\n",
      "True\n",
      "True\n",
      "True\n",
      "True\n"
     ]
    }
   ],
   "source": [
    "# methods in python not required for biggners \n",
    "\n",
    "# Example strings\n",
    "s1 = \"  Hello World  \"\n",
    "s2 = \"python programming\"\n",
    "s3 = \"HELLO WORLD\"\n",
    "s4 = \"hello world example\"\n",
    "s5 = \"12345\"\n",
    "s6 = \"hello\"\n",
    "s7 = \"hello123\"\n",
    "s8 = \"   \"\n",
    "s9 = \"line 1\\nline 2\\nline 3\"\n",
    "\n",
    "# 1. str.upper()\n",
    "print(s2.upper())  # Output: PYTHON PROGRAMMING\n",
    "\n",
    "# 2. str.lower()\n",
    "print(s3.lower())  # Output: hello world\n",
    "\n",
    "# 3. str.title()\n",
    "print(s2.title())  # Output: Python Programming\n",
    "\n",
    "# 4. str.capitalize()\n",
    "print(s2.capitalize())  # Output: Python programming\n",
    "\n",
    "# 5. str.strip()\n",
    "print(s1.strip())  # Output: Hello World\n",
    "\n",
    "# 6. str.lstrip()\n",
    "print(s1.lstrip())  # Output: Hello World  \n",
    "\n",
    "# 7. str.rstrip()\n",
    "print(s1.rstrip())  # Output:   Hello World\n",
    "\n",
    "# 8. str.find()\n",
    "print(s4.find(\"world\"))  # Output: 6\n",
    "print(s4.find(\"python\"))  # Output: -1\n",
    "\n",
    "# 9. str.rfind()\n",
    "print(s4.rfind(\"world\"))  # Output: 12\n",
    "print(s4.rfind(\"python\"))  # Output: -1\n",
    "\n",
    "# 10. str.index()\n",
    "print(s4.index(\"world\"))  # Output: 6\n",
    "# print(s4.index(\"python\"))  # Raises ValueError: substring not found\n",
    "# 11. str.rindex()\n",
    "print(s4.rindex(\"world\"))  # Output: 12\n",
    "# print(s4.rindex(\"python\"))  # Raises ValueError: substring not found\n",
    "# 12. str.replace()\n",
    "print(s4.replace(\"world\", \"Python\"))  # Output: hello Python example\n",
    "# 13. str.split()\n",
    "print(s2.split())  # Output: ['python', 'programming']\n",
    "# 14. str.rsplit()\n",
    "print(s4.rsplit())  # Output: ['hello', 'world', 'example']\n",
    "# 15. str.splitlines()\n",
    "print(s9.splitlines())  # Output: ['line 1', 'line 2', 'line 3']\n",
    "# 16. str.zfill()\n",
    "print(s5.zfill(7))  # Output: 00012345\n",
    "# 17. str.isdigit()\n",
    "print(s5.isdigit())  # Output: True\n",
    "# 18. str.isalpha()\n",
    "print(s6.isalpha())  # Output: True\n",
    "# 19. str.isalnum()\n",
    "print(s7.isalnum())  # Output: True\n",
    "# 20. str.islower()\n",
    "print(s6.islower())  # Output: True\n",
    "# 21. str.isupper()\n",
    "print(s3.isupper())  # Output: True\n",
    "# 22. str.isspace()\n",
    "print(s8.isspace())  # Output: True\n",
    "# 23. str.startswith()\n",
    "print(s2.startswith(\"python\"))  # Output: True\n",
    "# 24. str.endswith()\n",
    "print(s2.endswith(\"programming\"))  # Output: True\n"
   ]
  },
  {
   "cell_type": "code",
   "execution_count": null,
   "metadata": {},
   "outputs": [],
   "source": []
  },
  {
   "cell_type": "code",
   "execution_count": null,
   "metadata": {},
   "outputs": [],
   "source": []
  },
  {
   "cell_type": "code",
   "execution_count": 96,
   "metadata": {},
   "outputs": [],
   "source": [
    "# Operators "
   ]
  },
  {
   "cell_type": "code",
   "execution_count": 97,
   "metadata": {},
   "outputs": [],
   "source": [
    "# Arithmetic operators\n",
    "# Assignment operators\n",
    "# Comparison operators\n",
    "# Logical operators\n",
    "# Identity operators\n",
    "# Membership operators\n",
    "# Bitwise operators"
   ]
  },
  {
   "cell_type": "code",
   "execution_count": 99,
   "metadata": {},
   "outputs": [
    {
     "name": "stdout",
     "output_type": "stream",
     "text": [
      "Addition: 19\n",
      "Subtraction: 11\n",
      "Multiplication: 60\n",
      "Division: 3.75\n",
      "Floor Division: 3\n",
      "Modulus: 3\n",
      "Exponentiation: 50625\n"
     ]
    }
   ],
   "source": [
    "# Arthmetic Operators \n",
    "\n",
    "# Define two numbers\n",
    "a = 15\n",
    "b = 4\n",
    "\n",
    "# Addition\n",
    "addition = a + b\n",
    "print(\"Addition:\", addition)  # Output: Addition: 19\n",
    "\n",
    "# Subtraction\n",
    "subtraction = a - b\n",
    "print(\"Subtraction:\", subtraction)  # Output: Subtraction: 11\n",
    "\n",
    "# Multiplication\n",
    "multiplication = a * b\n",
    "print(\"Multiplication:\", multiplication)  # Output: Multiplication: 60\n",
    "\n",
    "# Division\n",
    "division = a / b\n",
    "print(\"Division:\", division)  # Output: Division: 3.75\n",
    "\n",
    "# Floor Division\n",
    "floor_division = a // b\n",
    "print(\"Floor Division:\", floor_division)  # Output: Floor Division: 3\n",
    "\n",
    "# Modulus\n",
    "modulus = a % b\n",
    "print(\"Modulus:\", modulus)  # Output: Modulus: 3\n",
    "\n",
    "# Exponentiation\n",
    "exponentiation = a ** b\n",
    "print(\"Exponentiation:\", exponentiation)  # Output: Exponentiation: 50625\n"
   ]
  },
  {
   "cell_type": "code",
   "execution_count": null,
   "metadata": {},
   "outputs": [],
   "source": []
  },
  {
   "cell_type": "code",
   "execution_count": 105,
   "metadata": {},
   "outputs": [
    {
     "name": "stdout",
     "output_type": "stream",
     "text": [
      "Basic Assignment: 10\n",
      "Addition Assignment: 15\n",
      "Subtraction Assignment: 12\n",
      "Multiplication Assignment: 48\n",
      "Division Assignment: 8.0\n",
      "Floor Division Assignment: 4.0\n",
      "Modulus Assignment: 1.0\n",
      "Exponentiation Assignment: 1.0\n"
     ]
    }
   ],
   "source": [
    "# Assignment operators\n",
    "# Define an initial value\n",
    "x = 10\n",
    "\n",
    "# Basic Assignment\n",
    "x = 10\n",
    "print(\"Basic Assignment:\", x)  # Output: Basic Assignment: 10\n",
    "\n",
    "# Addition Assignment\n",
    "x += 5  # Equivalent to x = x + 5\n",
    "print(\"Addition Assignment:\", x)  # Output: Addition Assignment: 15\n",
    "\n",
    "# Subtraction Assignment\n",
    "x -= 3  # Equivalent to x = x - 3\n",
    "print(\"Subtraction Assignment:\", x)  # Output: Subtraction Assignment: 12\n",
    "\n",
    "# Multiplication Assignment\n",
    "x *= 4  # Equivalent to x = x * 4\n",
    "print(\"Multiplication Assignment:\", x)  # Output: Multiplication Assignment: 48\n",
    "\n",
    "# Division Assignment\n",
    "x /= 6  # Equivalent to x = x / 6\n",
    "print(\"Division Assignment:\", x)  # Output: Division Assignment: 8.0\n",
    "\n",
    "# Floor Division Assignment\n",
    "x //= 2  # Equivalent to x = x // 2\n",
    "print(\"Floor Division Assignment:\", x)  # Output: Floor Division Assignment: 4.0\n",
    "\n",
    "# Modulus Assignment\n",
    "x %= 3  # Equivalent to x = x % 3\n",
    "print(\"Modulus Assignment:\", x)  # Output: Modulus Assignment: 1.0\n",
    "\n",
    "# Exponentiation Assignment\n",
    "x **= 2  # Equivalent to x = x ** 2\n",
    "print(\"Exponentiation Assignment:\", x)  # Output: Exponentiation Assignment: 1.0\n"
   ]
  },
  {
   "cell_type": "code",
   "execution_count": null,
   "metadata": {},
   "outputs": [],
   "source": []
  },
  {
   "cell_type": "code",
   "execution_count": 106,
   "metadata": {},
   "outputs": [
    {
     "name": "stdout",
     "output_type": "stream",
     "text": [
      "Equal to: False\n",
      "Equal to: True\n",
      "Not equal to: True\n",
      "Not equal to: False\n",
      "Greater than: True\n",
      "Greater than: False\n",
      "Less than: True\n",
      "Less than: False\n",
      "Greater than or equal to: True\n",
      "Greater than or equal to: False\n",
      "Less than or equal to: True\n",
      "Less than or equal to: False\n"
     ]
    }
   ],
   "source": [
    "#Comparison Operators \n",
    "# Define values\n",
    "a = 20\n",
    "b = 10\n",
    "c = 20\n",
    "d = 30\n",
    "\n",
    "# Equal to\n",
    "print(\"Equal to:\", a == b)  # Output: Equal to: False\n",
    "print(\"Equal to:\", a == c)  # Output: Equal to: True\n",
    "\n",
    "# Not equal to\n",
    "print(\"Not equal to:\", a != b)  # Output: Not equal to: True\n",
    "print(\"Not equal to:\", a != c)  # Output: Not equal to: False\n",
    "\n",
    "# Greater than\n",
    "print(\"Greater than:\", a > b)  # Output: Greater than: True\n",
    "print(\"Greater than:\", a > d)  # Output: Greater than: False\n",
    "\n",
    "# Less than\n",
    "print(\"Less than:\", a < d)  # Output: Less than: True\n",
    "print(\"Less than:\", a < b)  # Output: Less than: False\n",
    "\n",
    "# Greater than or equal to\n",
    "print(\"Greater than or equal to:\", a >= b)  # Output: Greater than or equal to: True\n",
    "print(\"Greater than or equal to:\", a >= d)  # Output: Greater than or equal to: False\n",
    "\n",
    "# Less than or equal to\n",
    "print(\"Less than or equal to:\", a <= c)  # Output: Less than or equal to: True\n",
    "print(\"Less than or equal to:\", a <= b)  # Output: Less than or equal to: False\n"
   ]
  },
  {
   "cell_type": "code",
   "execution_count": null,
   "metadata": {},
   "outputs": [],
   "source": []
  },
  {
   "cell_type": "code",
   "execution_count": 107,
   "metadata": {},
   "outputs": [
    {
     "name": "stdout",
     "output_type": "stream",
     "text": [
      "Logical AND (x and y): False\n",
      "Logical OR (x or y): True\n",
      "Logical NOT (not x): False\n"
     ]
    }
   ],
   "source": [
    "#Logical Operators\n",
    "# Define variables\n",
    "x = True\n",
    "y = False\n",
    "\n",
    "# Logical AND\n",
    "print(\"Logical AND (x and y):\", x and y)  # Output: False\n",
    "\n",
    "# Logical OR\n",
    "print(\"Logical OR (x or y):\", x or y)  # Output: True\n",
    "\n",
    "# Logical NOT\n",
    "print(\"Logical NOT (not x):\", not x)  # Output: False\n"
   ]
  },
  {
   "cell_type": "code",
   "execution_count": null,
   "metadata": {},
   "outputs": [],
   "source": []
  },
  {
   "cell_type": "code",
   "execution_count": 108,
   "metadata": {},
   "outputs": [
    {
     "name": "stdout",
     "output_type": "stream",
     "text": [
      "Identity is (x is z): True\n",
      "Identity is not (x is not y): True\n"
     ]
    }
   ],
   "source": [
    "# Identity Operators\n",
    "# Define variables\n",
    "x = [1, 2, 3]\n",
    "y = [1, 2, 3]\n",
    "z = x\n",
    "\n",
    "# Identity is\n",
    "print(\"Identity is (x is z):\", x is z)  # Output: True\n",
    "\n",
    "# Identity is not\n",
    "print(\"Identity is not (x is not y):\", x is not y)  # Output: True\n"
   ]
  },
  {
   "cell_type": "code",
   "execution_count": null,
   "metadata": {},
   "outputs": [],
   "source": []
  },
  {
   "cell_type": "code",
   "execution_count": 109,
   "metadata": {},
   "outputs": [
    {
     "name": "stdout",
     "output_type": "stream",
     "text": [
      "Membership in list (3 in lst): True\n",
      "Membership in list (6 in lst): False\n",
      "Membership in string ('e' in s): True\n",
      "Membership in string ('x' in s): False\n"
     ]
    }
   ],
   "source": [
    "#membership operators\n",
    "\n",
    "# Define a list and a string\n",
    "lst = [1, 2, 3, 4, 5]\n",
    "s = \"hello\"\n",
    "\n",
    "# Membership in list\n",
    "print(\"Membership in list (3 in lst):\", 3 in lst)  # Output: True\n",
    "print(\"Membership in list (6 in lst):\", 6 in lst)  # Output: False\n",
    "\n",
    "# Membership in string\n",
    "print(\"Membership in string ('e' in s):\", 'e' in s)  # Output: True\n",
    "print(\"Membership in string ('x' in s):\", 'x' in s)  # Output: False\n"
   ]
  },
  {
   "cell_type": "code",
   "execution_count": null,
   "metadata": {},
   "outputs": [],
   "source": []
  },
  {
   "cell_type": "code",
   "execution_count": 110,
   "metadata": {},
   "outputs": [
    {
     "name": "stdout",
     "output_type": "stream",
     "text": [
      "Bitwise AND (a & b): 12\n",
      "Bitwise OR (a | b): 61\n",
      "Bitwise XOR (a ^ b): 49\n",
      "Bitwise NOT (~a): -61\n",
      "Bitwise Left Shift (a << 2): 240\n",
      "Bitwise Right Shift (a >> 2): 15\n"
     ]
    }
   ],
   "source": [
    "# Bitwise operator\n",
    "# Define variables\n",
    "a = 60  # 0011 1100 in binary\n",
    "b = 13  # 0000 1101 in binary\n",
    "\n",
    "# Bitwise AND\n",
    "print(\"Bitwise AND (a & b):\", a & b)  # Output: 12 (0000 1100 in binary)\n",
    "\n",
    "# Bitwise OR\n",
    "print(\"Bitwise OR (a | b):\", a | b)  # Output: 61 (0011 1101 in binary)\n",
    "\n",
    "# Bitwise XOR\n",
    "print(\"Bitwise XOR (a ^ b):\", a ^ b)  # Output: 49 (0011 0001 in binary)\n",
    "\n",
    "# Bitwise NOT\n",
    "print(\"Bitwise NOT (~a):\", ~a)  # Output: -61 (inverted bits of a)\n",
    "\n",
    "# Bitwise Left Shift\n",
    "print(\"Bitwise Left Shift (a << 2):\", a << 2)  # Output: 240 (1111 0000 in binary)\n",
    "\n",
    "# Bitwise Right Shift\n",
    "print(\"Bitwise Right Shift (a >> 2):\", a >> 2)  # Output: 15 (0000 1111 in binary)\n"
   ]
  },
  {
   "cell_type": "code",
   "execution_count": null,
   "metadata": {},
   "outputs": [],
   "source": []
  },
  {
   "cell_type": "code",
   "execution_count": 112,
   "metadata": {},
   "outputs": [],
   "source": [
    "# all the operators follow the BODMAS (BIDMAS / PEMDAS) - Maths"
   ]
  },
  {
   "cell_type": "code",
   "execution_count": null,
   "metadata": {},
   "outputs": [],
   "source": []
  },
  {
   "cell_type": "code",
   "execution_count": null,
   "metadata": {},
   "outputs": [],
   "source": []
  },
  {
   "cell_type": "code",
   "execution_count": 113,
   "metadata": {},
   "outputs": [],
   "source": [
    "#### Data Types "
   ]
  },
  {
   "cell_type": "code",
   "execution_count": 114,
   "metadata": {},
   "outputs": [],
   "source": [
    "# list\n",
    "# Tuple\n",
    "# set \n",
    "# dictionary"
   ]
  },
  {
   "cell_type": "code",
   "execution_count": null,
   "metadata": {},
   "outputs": [],
   "source": []
  },
  {
   "cell_type": "code",
   "execution_count": 127,
   "metadata": {},
   "outputs": [
    {
     "name": "stdout",
     "output_type": "stream",
     "text": [
      "3\n",
      "----------------------------------------\n",
      "<class 'list'>\n",
      "----------------------------------------\n",
      "['venu', 'gopal', 'henrry']\n",
      "----------------------------------------\n",
      "venu\n",
      "----------------------------------------\n",
      "henrry\n",
      "----------------------------------------\n",
      "['henrry']\n",
      "----------------------------------------\n",
      "venu\n",
      "----------------------------------------\n",
      "['new_name', 'gopal', 'henrry']\n",
      "----------------------------------------\n",
      "['new_name', 'inserting new name', 'gopal', 'henrry']\n",
      "----------------------------------------\n",
      "----------------------------------------\n",
      "['new_name', 'gopal', 'henrry', 'adding new element']\n",
      "----------------------------------------\n",
      "----------------------------------------\n",
      "['apple', 'banana', 'cherry', 'mango', 'pineapple', 'papaya']\n",
      "----------------------------------------\n",
      "['apple', 'cherry']\n",
      "----------------------------------------\n",
      "[]\n",
      "----------------------------------------\n",
      "new_name\n",
      "gopal\n",
      "henrry\n",
      "adding new element\n",
      "----------------------------------------\n",
      "apple\n",
      "banana\n",
      "cherry\n",
      "apple\n",
      "banana\n",
      "cherry\n"
     ]
    }
   ],
   "source": [
    "# list\n",
    "#\n",
    "# index start with [0]\n",
    "# changeable the order of the list \n",
    "# it allow duplicates \n",
    "# in list we use int , boolean, string \n",
    "\n",
    "\n",
    "list_names = [\"venu\", \"gopal\", \"henrry\"]\n",
    "\n",
    "# length of the list\n",
    "print(len(list_names))\n",
    "diff()\n",
    "# to check the data type \n",
    "print(type(list_names))\n",
    "\n",
    "diff()\n",
    "\n",
    "list_names == list(('venu',\"gopal\",\"hennery\"))\n",
    "print(list_names)\n",
    "\n",
    "diff()\n",
    "\n",
    "print(list_names[0])\n",
    "\n",
    "diff()\n",
    "\n",
    "print(list_names[-1])\n",
    "\n",
    "diff()\n",
    "\n",
    "print(list_names[2:3])\n",
    "\n",
    "diff()\n",
    "\n",
    "# checking the name is available \n",
    "result = \"venu\" if \"venu\" in list_names else \"gopal\"\n",
    "\n",
    "print(result)\n",
    "\n",
    "diff()\n",
    "\n",
    "# inserting new things \n",
    "\n",
    "list_names[0] =\"new_name\"\n",
    "\n",
    "print(list_names)\n",
    "\n",
    "diff()\n",
    "\n",
    "# insert new string in list using insert \n",
    "list_names.insert(1, \"inserting new name\")\n",
    "\n",
    "print(list_names)\n",
    "\n",
    "diff()\n",
    "\n",
    "# adding new string to the list \n",
    "\n",
    "list_names.append(\"adding new element\")\n",
    "\n",
    "diff()\n",
    "\n",
    "# removing elements \n",
    "list_names.remove('inserting new name')\n",
    "\n",
    "print(list_names)\n",
    "\n",
    "diff()\n",
    "\n",
    "# sorting the list \n",
    "print(list_names.sort())\n",
    "\n",
    "diff()\n",
    "# check what happen in reverse ==True\n",
    "print(list_names.sort(reverse=True))\n",
    "\n",
    "diff()\n",
    "\n",
    "# reverse the order \n",
    "print(list_names.reverse())\n",
    "\n",
    "\n",
    "diff()\n",
    "diff()\n",
    "# \\\\\\\\\\\\\\\\\\\\\\\\\\\\\\\\\\\\\\\\\\\\\\\\\\\\\\\\\\\\\\\\\\\\\\\\\\\\\\\\\\\\\\\\\\\\\\\\\\\\\\\\\\\\\\\n",
    "# Not basics \n",
    "\n",
    "thislist = [\"apple\", \"banana\", \"cherry\"]\n",
    "tropical = [\"mango\", \"pineapple\", \"papaya\"]\n",
    "\n",
    "thislist.extend(tropical)\n",
    "\n",
    "print(thislist)\n",
    "\n",
    "diff()\n",
    "\n",
    "thislist = [\"apple\", \"banana\", \"cherry\"]\n",
    "thislist.pop(1)\n",
    "print(thislist)\n",
    "\n",
    "diff()\n",
    "\n",
    "thislist = [\"apple\", \"banana\", \"cherry\"]\n",
    "thislist.clear()\n",
    "print(thislist)\n",
    "\n",
    "diff()\n",
    "\n",
    "# looping \n",
    "\n",
    "[print(i) for i in list_names]\n",
    "diff()\n",
    "\n",
    "# looping with index \n",
    "thislist = [\"apple\", \"banana\", \"cherry\"]\n",
    "for i in range(len(thislist)):\n",
    "  print(thislist[i])\n",
    "\n",
    "\n",
    "diff()\n",
    "# using while loop\n",
    "thislist = [\"apple\", \"banana\", \"cherry\"]\n",
    "i = 0\n",
    "while i < len(thislist):\n",
    "  print(thislist[i])\n",
    "  i = i + 1\n",
    "\n",
    "\n",
    "diff()\n",
    "def myfunc(n):\n",
    "  return abs(n - 50)\n",
    "\n",
    "thislist = [100, 50, 65, 82, 23]\n",
    "\n",
    "thislist.sort(key = myfunc)\n",
    "\n",
    "print(thislist)\n",
    "\n"
   ]
  },
  {
   "cell_type": "code",
   "execution_count": null,
   "metadata": {},
   "outputs": [],
   "source": []
  },
  {
   "cell_type": "code",
   "execution_count": null,
   "metadata": {},
   "outputs": [],
   "source": []
  },
  {
   "cell_type": "code",
   "execution_count": 132,
   "metadata": {},
   "outputs": [
    {
     "name": "stdout",
     "output_type": "stream",
     "text": [
      "('vneu', 'gopal', 'name')\n",
      "----------------------------------------\n",
      "length 3\n",
      "----------------------------------------\n",
      "checking the data type <class 'tuple'>\n",
      "----------------------------------------\n",
      "it allow the int ,text, bolen ('abc', 34, True, 40, 'male')\n",
      "----------------------------------------\n",
      "accessing the first element in tuple  vneu\n",
      "----------------------------------------\n",
      "updating the tuple \n"
     ]
    }
   ],
   "source": [
    "# Tuple\n",
    "# order we can't change \n",
    "# index start with 0 not with 1\n",
    "# tuple allow the duplicates \n",
    "\n",
    "name_tupel  = (\"vneu\", \"gopal\", \"name\")\n",
    "print(name_tupel)\n",
    "\n",
    "diff()\n",
    "\n",
    "print(\"length\", len(name_tupel))\n",
    "\n",
    "diff()\n",
    "\n",
    "print(\"checking the data type\", type(name_tupel))\n",
    "diff()\n",
    "\n",
    "tuple1 = (\"abc\", 34, True, 40, \"male\")\n",
    "print(\"it allow the int ,text, bolen\",tuple1 )\n",
    "\n",
    "diff()\n",
    "\n",
    "print('accessing the first element in tuple ', name_tupel[0])\n",
    "diff()\n",
    "\n",
    "name_tupel[0] = \"changed the first letter\"\n",
    "print('updating the tuple ', name_tupel)\n",
    "\n",
    "\n",
    "# In tuple we have only two methods \n",
    "# count()\n",
    "# index()\n",
    "\n",
    "diff()\n",
    "\n",
    "\n",
    "\n"
   ]
  },
  {
   "cell_type": "code",
   "execution_count": null,
   "metadata": {},
   "outputs": [],
   "source": []
  },
  {
   "cell_type": "code",
   "execution_count": 6,
   "metadata": {},
   "outputs": [
    {
     "name": "stdout",
     "output_type": "stream",
     "text": [
      "print the set  {'cherry', 'banana', 'apple'}\n",
      "----------------------------------------\n",
      "allow the different elements in the set {False, True, 'cherry', 'banana', 'apple'}\n",
      "----------------------------------------\n",
      "checking the lenght of the set 5\n",
      "----------------------------------------\n",
      "adding new item to the set {False, True, 'cherry', 'banana', 'orange', 'apple'}\n",
      "----------------------------------------\n",
      "combine the two sets {False, True, 'cherry', 'banana', 'orange', 'apple'}\n",
      "----------------------------------------\n",
      "removing the element from the set  {False, True, 'cherry', 'orange', 'apple'}\n",
      "----------------------------------------\n",
      "Union: {1, 2, 3, 4, 5}\n",
      "Union using union(): {1, 2, 3, 4, 5}\n",
      "Intersection: {3}\n",
      "Intersection using intersection(): {3}\n",
      "Difference: {1, 2}\n",
      "Difference using difference(): {1, 2}\n",
      "Symmetric Difference: {1, 2, 4, 5}\n",
      "Symmetric Difference using symmetric_difference(): {1, 2, 4, 5}\n",
      "Is Subset: True\n",
      "Is Subset using issubset(): True\n",
      "Is Superset: True\n",
      "Is Superset using issuperset(): True\n",
      "Are Disjoint: True\n",
      "After\n"
     ]
    }
   ],
   "source": [
    "# Set \n",
    "\n",
    "# store multiple items in a single variable.\n",
    "# unordered, unchangeable, and do not allow duplicate values.\n",
    "\n",
    "\n",
    "name_set = {\"apple\", \"banana\", \"cherry\"}\n",
    "print(\"print the set \",name_set)\n",
    "\n",
    "diff()\n",
    "\n",
    "thisset = {\"apple\", \"banana\", \"cherry\", False, True, 0}\n",
    "\n",
    "print(\"allow the different elements in the set\",thisset)\n",
    "\n",
    "diff()\n",
    "print(\"checking the lenght of the set\", len(thisset))\n",
    "\n",
    "\n",
    "diff()\n",
    "thisset.add(\"orange\")\n",
    "\n",
    "print(\"adding new item to the set\",thisset)\n",
    "diff()\n",
    "\n",
    "tropical = {}\n",
    "thisset.update(tropical)\n",
    "\n",
    "print(\"combine the two sets\", thisset)\n",
    "\n",
    "diff()\n",
    "\n",
    "thisset.remove(\"banana\")\n",
    "\n",
    "# not reqiored for begginers \n",
    "#####\n",
    "print(\"removing the element from the set \",thisset)\n",
    "# disacrd also do the same but not raise error if the element not aviable , remove will raise \n",
    "diff()\n",
    "\n",
    "# Union\n",
    "s1 = {1, 2, 3}\n",
    "s2 = {3, 4, 5}\n",
    "union_set = s1 | s2  # {1, 2, 3, 4, 5}\n",
    "print(\"Union:\", union_set)\n",
    "\n",
    "union_set = s1.union(s2)  # {1, 2, 3, 4, 5}\n",
    "print(\"Union using union():\", union_set)\n",
    "\n",
    "# Intersection\n",
    "intersection_set = s1 & s2  # {3}\n",
    "print(\"Intersection:\", intersection_set)\n",
    "\n",
    "intersection_set = s1.intersection(s2)  # {3}\n",
    "print(\"Intersection using intersection():\", intersection_set)\n",
    "\n",
    "# Difference\n",
    "difference_set = s1 - s2  # {1, 2}\n",
    "print(\"Difference:\", difference_set)\n",
    "\n",
    "difference_set = s1.difference(s2)  # {1, 2}\n",
    "print(\"Difference using difference():\", difference_set)\n",
    "\n",
    "# Symmetric Difference\n",
    "symmetric_diff_set = s1 ^ s2  # {1, 2, 4, 5}\n",
    "print(\"Symmetric Difference:\", symmetric_diff_set)\n",
    "\n",
    "symmetric_diff_set = s1.symmetric_difference(s2)  # {1, 2, 4, 5}\n",
    "print(\"Symmetric Difference using symmetric_difference():\", symmetric_diff_set)\n",
    "\n",
    "# Subset\n",
    "s3 = {1, 2}\n",
    "s4 = {1, 2, 3}\n",
    "is_subset = s3 <= s4  # True\n",
    "print(\"Is Subset:\", is_subset)\n",
    "\n",
    "is_subset = s3.issubset(s4)  # True\n",
    "print(\"Is Subset using issubset():\", is_subset)\n",
    "\n",
    "# Superset\n",
    "is_superset = s4 >= s3  # True\n",
    "print(\"Is Superset:\", is_superset)\n",
    "\n",
    "is_superset = s4.issuperset(s3)  # True\n",
    "print(\"Is Superset using issuperset():\", is_superset)\n",
    "\n",
    "# Disjoint\n",
    "s5 = {1, 2, 3}\n",
    "s6 = {4, 5, 6}\n",
    "are_disjoint = s5.isdisjoint(s6)  # True\n",
    "print(\"Are Disjoint:\", are_disjoint)\n",
    "\n",
    "# Add\n",
    "s7 = {1, 2, 3}\n",
    "s7.add(4)  # {1, 2, 3, 4}\n",
    "print(\"After\")\n",
    "\n"
   ]
  },
  {
   "cell_type": "code",
   "execution_count": null,
   "metadata": {},
   "outputs": [],
   "source": []
  },
  {
   "cell_type": "code",
   "execution_count": 9,
   "metadata": {},
   "outputs": [
    {
     "name": "stdout",
     "output_type": "stream",
     "text": [
      "example of the dict  {'brand': 'Ford', 'model': 'Mustang', 'year': 1964}\n",
      "----------------------------------------\n",
      "print elements of the dict  Ford\n",
      "----------------------------------------\n",
      "length of the dict 3\n",
      "----------------------------------------\n",
      "{'brand': 'Ford', 'electric': False, 'year': 1964, 'colors': ['red', 'white', 'blue']}\n",
      "----------------------------------------\n",
      "x None\n",
      "----------------------------------------\n",
      "x dict_values(['Ford', False, 1964, ['red', 'white', 'blue']])\n",
      "----------------------------------------\n",
      "get('a'): 1\n",
      "get('z', 'Not Found'): Not Found\n",
      "keys(): dict_keys(['a', 'b', 'c'])\n",
      "values(): dict_values([1, 2, 3])\n",
      "items(): dict_items([('a', 1), ('b', 2), ('c', 3)])\n",
      "After update({'d': 4, 'e': 5}): {'a': 1, 'b': 2, 'c': 3, 'd': 4, 'e': 5}\n",
      "pop('b'): 2\n",
      "After pop('b'): {'a': 1, 'c': 3, 'd': 4, 'e': 5}\n",
      "popitem(): ('e', 5)\n",
      "After popitem(): {'a': 1, 'c': 3, 'd': 4}\n",
      "setdefault('f', 6): 6\n",
      "After setdefault('f', 6): {'a': 1, 'c': 3, 'd': 4, 'f': 6}\n",
      "After clear(): {}\n",
      "copy(): {'a': 1, 'b': 2, 'c': 3}\n"
     ]
    }
   ],
   "source": [
    "# dict \n",
    "\n",
    "# it allow the duplicates \n",
    "\n",
    "# key value pair \n",
    "\n",
    "thisdict = {\n",
    "  \"brand\": \"Ford\",\n",
    "  \"model\": \"Mustang\",\n",
    "  \"year\": 1964\n",
    "}\n",
    "print(\"example of the dict \", thisdict)\n",
    "diff()\n",
    "\n",
    "print(\"print elements of the dict \",thisdict[\"brand\"])\n",
    "diff()\n",
    "\n",
    "print(\"length of the dict\", len(thisdict))\n",
    "diff()\n",
    "\n",
    "thisdict = {\n",
    "  \"brand\": \"Ford\",\n",
    "  \"electric\": False,\n",
    "  \"year\": 1964,\n",
    "  \"colors\": [\"red\", \"white\", \"blue\"]\n",
    "}\n",
    "print(thisdict)\n",
    "\n",
    "diff()\n",
    "\n",
    "x = thisdict.get(\"model\")\n",
    "print(\"x\",x)\n",
    "diff()\n",
    "x = thisdict.values()\n",
    "print(\"x\",x)\n",
    "\n",
    "diff()\n",
    "\n",
    "#######\n",
    "#######\n",
    "\n",
    "\n",
    "# Creating a dictionary\n",
    "d = {'a': 1, 'b': 2, 'c': 3}\n",
    "\n",
    "# 1. get(key, default=None)\n",
    "value = d.get('a')  # Returns 1\n",
    "print(\"get('a'):\", value)\n",
    "value = d.get('z', 'Not Found')  # Returns 'Not Found'\n",
    "print(\"get('z', 'Not Found'):\", value)\n",
    "\n",
    "# 2. keys()\n",
    "keys = d.keys()  # Returns dict_keys(['a', 'b', 'c'])\n",
    "print(\"keys():\", keys)\n",
    "\n",
    "# 3. values()\n",
    "values = d.values()  # Returns dict_values([1, 2, 3])\n",
    "print(\"values():\", values)\n",
    "\n",
    "# 4. items()\n",
    "items = d.items()  # Returns dict_items([('a', 1), ('b', 2), ('c', 3)])\n",
    "print(\"items():\", items)\n",
    "\n",
    "# 5. update(other_dict)\n",
    "d.update({'d': 4, 'e': 5})  # Adds new items and updates existing ones\n",
    "print(\"After update({'d': 4, 'e': 5}):\", d)\n",
    "\n",
    "# 6. pop(key, default=None)\n",
    "popped_value = d.pop('b')  # Removes 'b' and returns its value (2)\n",
    "print(\"pop('b'):\", popped_value)\n",
    "print(\"After pop('b'):\", d)\n",
    "\n",
    "# 7. popitem()\n",
    "key, value = d.popitem()  # Removes and returns the last inserted item ('e', 5)\n",
    "print(\"popitem():\", (key, value))\n",
    "print(\"After popitem():\", d)\n",
    "\n",
    "# 8. setdefault(key, default=None)\n",
    "value = d.setdefault('f', 6)  # Adds 'f': 6 if 'f' is not in dictionary\n",
    "print(\"setdefault('f', 6):\", value)\n",
    "print(\"After setdefault('f', 6):\", d)\n",
    "\n",
    "# 9. clear()\n",
    "d.clear()  # Clears all items from the dictionary\n",
    "print(\"After clear():\", d)\n",
    "\n",
    "# 10. copy()\n",
    "d = {'a': 1, 'b': 2, 'c': 3}\n",
    "d_copy = d.copy()  # Creates a shallow copy of the dictionary\n",
    "print(\"copy():\", d_copy)\n"
   ]
  },
  {
   "cell_type": "code",
   "execution_count": null,
   "metadata": {},
   "outputs": [],
   "source": []
  },
  {
   "cell_type": "code",
   "execution_count": 13,
   "metadata": {},
   "outputs": [
    {
     "name": "stdout",
     "output_type": "stream",
     "text": [
      "a is greater than b\n",
      "----------------------------------------\n",
      "a is greater than b\n",
      "----------------------------------------\n",
      "A\n",
      "----------------------------------------\n",
      "Both conditions are True\n",
      "----------------------------------------\n",
      "At least one of the conditions is True\n",
      "----------------------------------------\n",
      "a is NOT greater than b\n"
     ]
    }
   ],
   "source": [
    "### conditation \n",
    "# -----if ---- elif ----- else \n",
    "a = 200\n",
    "b = 33\n",
    "if b > a:\n",
    "  print(\"b is greater than a\")\n",
    "elif a == b:\n",
    "  print(\"a and b are equal\")\n",
    "else:\n",
    "  print(\"a is greater than b\")\n",
    "\n",
    "diff()\n",
    "########\n",
    "if a > b: print(\"a is greater than b\")\n",
    "diff()\n",
    "print(\"A\") if a > b else print(\"B\")\n",
    "\n",
    "diff()\n",
    "\n",
    "\n",
    "# and \n",
    "a = 200\n",
    "b = 33\n",
    "c = 500\n",
    "if a > b and c > a:\n",
    "  print(\"Both conditions are True\")\n",
    "\n",
    "\n",
    "diff()\n",
    "\n",
    "\n",
    "# or \n",
    "a = 200\n",
    "b = 33\n",
    "c = 500\n",
    "if a > b or a > c:\n",
    "  print(\"At least one of the conditions is True\")\n",
    "\n",
    "diff()\n",
    "\n",
    "# not \n",
    "a = 33\n",
    "b = 200\n",
    "if not a > b:\n",
    "  print(\"a is NOT greater than b\")\n",
    "\n"
   ]
  },
  {
   "cell_type": "code",
   "execution_count": null,
   "metadata": {},
   "outputs": [],
   "source": []
  },
  {
   "cell_type": "code",
   "execution_count": null,
   "metadata": {},
   "outputs": [],
   "source": []
  },
  {
   "cell_type": "code",
   "execution_count": null,
   "metadata": {},
   "outputs": [],
   "source": []
  },
  {
   "cell_type": "code",
   "execution_count": 128,
   "metadata": {},
   "outputs": [],
   "source": [
    "### loops"
   ]
  },
  {
   "cell_type": "code",
   "execution_count": 129,
   "metadata": {},
   "outputs": [
    {
     "name": "stdout",
     "output_type": "stream",
     "text": [
      "['apple', 'banana', 'mango']\n",
      "----------------------------------------\n",
      "['apple', 'banana', 'mango']\n"
     ]
    }
   ],
   "source": [
    "#  using for and if condition in two ways \n",
    "# normal method and list comprehension \n",
    "\n",
    "fruits = [\"apple\", \"banana\", \"cherry\", \"kiwi\", \"mango\"]\n",
    "\n",
    "newlist = [x for x in fruits if \"a\" in x]\n",
    "\n",
    "print(newlist)\n",
    "\n",
    "diff()\n",
    "res =[]\n",
    "for i in fruits:\n",
    "    if \"a\" in i:\n",
    "        res.append(i)\n",
    "\n",
    "print(res)"
   ]
  },
  {
   "cell_type": "code",
   "execution_count": 130,
   "metadata": {},
   "outputs": [
    {
     "name": "stdout",
     "output_type": "stream",
     "text": [
      "[0, 1, 2, 3, 4, 5, 6, 7, 8, 9]\n"
     ]
    }
   ],
   "source": [
    "# genrating the random numbers \n",
    "newlist = [x for x in range(10)]\n",
    "print(newlist)"
   ]
  },
  {
   "cell_type": "code",
   "execution_count": 14,
   "metadata": {},
   "outputs": [
    {
     "name": "stdout",
     "output_type": "stream",
     "text": [
      "0\n",
      "1\n",
      "2\n",
      "3\n",
      "4\n",
      "5\n"
     ]
    }
   ],
   "source": [
    "for x in range(6):\n",
    "  print(x)"
   ]
  },
  {
   "cell_type": "code",
   "execution_count": 15,
   "metadata": {},
   "outputs": [
    {
     "name": "stdout",
     "output_type": "stream",
     "text": [
      "apple\n",
      "cherry\n"
     ]
    }
   ],
   "source": [
    "fruits = [\"apple\", \"banana\", \"cherry\"]\n",
    "for x in fruits:\n",
    "  if x == \"banana\":\n",
    "    continue\n",
    "  print(x)"
   ]
  },
  {
   "cell_type": "code",
   "execution_count": 16,
   "metadata": {},
   "outputs": [
    {
     "name": "stdout",
     "output_type": "stream",
     "text": [
      "red apple\n",
      "red banana\n",
      "red cherry\n",
      "big apple\n",
      "big banana\n",
      "big cherry\n",
      "tasty apple\n",
      "tasty banana\n",
      "tasty cherry\n"
     ]
    }
   ],
   "source": [
    "adj = [\"red\", \"big\", \"tasty\"]\n",
    "fruits = [\"apple\", \"banana\", \"cherry\"]\n",
    "\n",
    "for x in adj:\n",
    "  for y in fruits:\n",
    "    print(x, y)"
   ]
  },
  {
   "cell_type": "code",
   "execution_count": null,
   "metadata": {},
   "outputs": [],
   "source": []
  },
  {
   "cell_type": "code",
   "execution_count": 17,
   "metadata": {},
   "outputs": [],
   "source": [
    "# functions "
   ]
  },
  {
   "cell_type": "code",
   "execution_count": 18,
   "metadata": {},
   "outputs": [
    {
     "name": "stdout",
     "output_type": "stream",
     "text": [
      "Emil Refsnes\n"
     ]
    }
   ],
   "source": [
    "def my_function(fname, lname):\n",
    "  print(fname + \" \" + lname)\n",
    "\n",
    "my_function(\"Emil\", \"Refsnes\")"
   ]
  },
  {
   "cell_type": "code",
   "execution_count": 20,
   "metadata": {},
   "outputs": [
    {
     "name": "stdout",
     "output_type": "stream",
     "text": [
      "name: Alice\n",
      "age: 30\n",
      "city: New York\n"
     ]
    }
   ],
   "source": [
    "def example_function(**kwargs):\n",
    "    for key, value in kwargs.items():\n",
    "        print(f\"{key}: {value}\")\n",
    "\n",
    "example_function(name=\"Alice\", age=30, city=\"New York\")\n",
    "# Output:\n",
    "# name: Alice\n",
    "# age: 30\n",
    "# city: New York\n"
   ]
  },
  {
   "cell_type": "code",
   "execution_count": 19,
   "metadata": {},
   "outputs": [
    {
     "name": "stdout",
     "output_type": "stream",
     "text": [
      "name: Alice\n",
      "age: 30\n",
      "city: New York\n"
     ]
    }
   ],
   "source": [
    "def example_function(**kwargs):\n",
    "    for key, value in kwargs.items():\n",
    "        print(f\"{key}: {value}\")\n",
    "\n",
    "example_function(name=\"Alice\", age=30, city=\"New York\")\n",
    "# Output:\n",
    "# name: Alice\n",
    "# age: 30\n",
    "# city: New York\n"
   ]
  },
  {
   "cell_type": "code",
   "execution_count": null,
   "metadata": {},
   "outputs": [],
   "source": []
  },
  {
   "cell_type": "code",
   "execution_count": null,
   "metadata": {},
   "outputs": [],
   "source": []
  },
  {
   "cell_type": "code",
   "execution_count": 21,
   "metadata": {},
   "outputs": [],
   "source": [
    "# lambda "
   ]
  },
  {
   "cell_type": "code",
   "execution_count": 22,
   "metadata": {},
   "outputs": [
    {
     "name": "stdout",
     "output_type": "stream",
     "text": [
      "15\n"
     ]
    }
   ],
   "source": [
    "x = lambda a : a + 10\n",
    "print(x(5))"
   ]
  },
  {
   "cell_type": "code",
   "execution_count": 23,
   "metadata": {},
   "outputs": [
    {
     "name": "stdout",
     "output_type": "stream",
     "text": [
      "30\n"
     ]
    }
   ],
   "source": [
    "x = lambda a, b : a * b\n",
    "print(x(5, 6))"
   ]
  },
  {
   "cell_type": "code",
   "execution_count": 24,
   "metadata": {},
   "outputs": [
    {
     "name": "stdout",
     "output_type": "stream",
     "text": [
      "22\n"
     ]
    }
   ],
   "source": [
    "def myfunc(n):\n",
    "  return lambda a : a * n\n",
    "\n",
    "mydoubler = myfunc(2)\n",
    "\n",
    "print(mydoubler(11))"
   ]
  },
  {
   "cell_type": "code",
   "execution_count": null,
   "metadata": {},
   "outputs": [],
   "source": []
  },
  {
   "cell_type": "code",
   "execution_count": null,
   "metadata": {},
   "outputs": [],
   "source": []
  },
  {
   "cell_type": "code",
   "execution_count": 25,
   "metadata": {},
   "outputs": [],
   "source": [
    "# arrays\n",
    "\n",
    "#An array is a special variable, which can hold more than one value at a time.\n"
   ]
  },
  {
   "cell_type": "code",
   "execution_count": 27,
   "metadata": {},
   "outputs": [],
   "source": [
    "# class"
   ]
  },
  {
   "cell_type": "code",
   "execution_count": 26,
   "metadata": {},
   "outputs": [
    {
     "name": "stdout",
     "output_type": "stream",
     "text": [
      "John\n",
      "36\n"
     ]
    }
   ],
   "source": [
    "class Person:\n",
    "  def __init__(self, name, age):\n",
    "    self.name = name\n",
    "    self.age = age\n",
    "\n",
    "p1 = Person(\"John\", 36)\n",
    "\n",
    "print(p1.name)\n",
    "print(p1.age)"
   ]
  },
  {
   "cell_type": "code",
   "execution_count": null,
   "metadata": {},
   "outputs": [],
   "source": []
  }
 ],
 "metadata": {
  "kernelspec": {
   "display_name": "Python 3",
   "language": "python",
   "name": "python3"
  },
  "language_info": {
   "codemirror_mode": {
    "name": "ipython",
    "version": 3
   },
   "file_extension": ".py",
   "mimetype": "text/x-python",
   "name": "python",
   "nbconvert_exporter": "python",
   "pygments_lexer": "ipython3",
   "version": "3.11.9"
  }
 },
 "nbformat": 4,
 "nbformat_minor": 2
}
